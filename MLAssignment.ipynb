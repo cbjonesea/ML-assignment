{
 "cells": [
  {
   "cell_type": "markdown",
   "id": "b6b8558c-4088-4c35-a8ef-4e16b0f556be",
   "metadata": {},
   "source": [
    "# Project Description"
   ]
  },
  {
   "cell_type": "markdown",
   "id": "8db7d4f7-5b78-4a09-9be2-b6062ea674cc",
   "metadata": {},
   "source": [
    "### In this challenge the task is to predict the revenue of rental properties, based on various features of these properties.\n",
    "\n",
    "### Data files\n",
    "The file dataset.zip Download dataset.zipis available for download. It contains the following files:\n",
    "\n",
    "train.json: the data, including the revenue, of all the items the training data.\n",
    "test.json: the data, excluding the revenue, of all the items in the test data.\n",
    "Both of these files are in the JSON format. You can load them using json.load function. The loaded data will consist of a list of Python dictionaries, with each dictionary corresponding to the record for one training or test example. The training records specify the revenue under the key revenue. For the test data this information is missing, and your task is to predict it. The other keys have descriptive names indicating the nature of the information.\n",
    "\n",
    "### Evaluation metric\n",
    "The evaluation metric for this task is Mean Absolute Error. Specifically, the following Python code is used for evaluation of the predictions:\n",
    "```\n",
    "import json\n",
    "from sklearn.metrics import mean_absolute_error\n",
    "import numpy as np\n",
    "\n",
    "def evaluate(gold_path, pred_path):\n",
    "    gold = np.array([ x['revenue'] for x in json.load(open(gold_path)) ]).as_type(float)\n",
    "    pred = np.array([ x['revenue'] for x in json.load(open(pred_path)) ]).as_type(float)\n",
    "\n",
    "    return mean_absolute_error(gold, pred)\n",
    "```\n",
    "    \n",
    "### Method\n",
    "You are free to use any learning algorithm or combination thereof, and any features you wish, subject to the following constraints:\n",
    "\n",
    "The method should be fully automatic, that is, by re-running your code it should be possible to re-create your prediction file;\n",
    "Every software component used should be open-source and possible to install locally via pip.\n",
    "You are not allowed to access or use external data of the properties included the dataset;\n",
    "If you have any doubts about what is allowed, clarify them with the instructors on Discussion of the ML challenge assignment.\n",
    "\n",
    "Some hints:\n",
    "\n",
    "Use part of the provided training data as a validation set.\n",
    "Only submit to the Codalab leaderboard after validating your results on this validation data.\n",
    "Use the provided starter code (baseline.py Download baseline.py) as a starting point for your work.\n",
    "\n",
    "You should use MAE scores from the baseline model code as a guide to try to build your model.\n",
    "\n",
    "Your submitted model will then be scored against a reference model (for which code is not provided) and scores will be posted on the leaderboard.\n",
    " \n",
    "\n",
    "### Prediction file format\n",
    "The prediction file should be named predicted.json and contain a list of dictionaries, each dictionary containing at least the key revenue and the value as a float. Do not include any other information about in the file.  \n",
    "\n",
    "You must supply a prediction for each item in the test data, in the same order as in the file test.json. Missing predictions will cause an error. The following is the beginning of an example prediction file:\n",
    "```\n",
    "[ \n",
    "  { “revenue”: 11185.62 }, \n",
    "  { “revenue”: 18490.24 },\n",
    "]\n",
    "```\n",
    "\n",
    "Important: The prediction file should be a .zip file with the file named predicted.json inside it. Refer to the starter code to see how to generate a correctly formatted and zipped prediction file.\n",
    "\n",
    "The competition is hosted on Codalab at the following URL: https://codalab.lisn.upsaclay.fr/competitions/22678?secret_key=c6879fd2-5c25-43f9-b905-eb640c3a5494Links to an external site.\n",
    "\n",
    "In order to participate you need to create an account on Codalab using your University email account (@tilburguniversity.edu).\n",
    "\n",
    "You can submit your results in the Participate link.\n",
    "\n",
    "You may submit up to 4 times during the competition (total, not per day).\n",
    "\n",
    "If you submission fails for some reason such as incorrect format, this may still count as one of the 4 submissions.\n",
    "\n",
    "The results from all the participating teams will be displayed in the Results tab.\n",
    "\n",
    "Note that your best scoring submission should be submitted to and visible on the Codalab leaderboard as soon as the submission is scored. In other words, you are not allowed to try and keep your best score secret. If you fail to follow this rule you will not receive any bonus based on your score."
   ]
  },
  {
   "cell_type": "markdown",
   "id": "3e848c2e-42df-4501-8d06-1e8bc5040d00",
   "metadata": {
    "jp-MarkdownHeadingCollapsed": true
   },
   "source": [
    "# Establishing professor's baseline"
   ]
  },
  {
   "cell_type": "markdown",
   "id": "f6b63273-0b3b-49b6-9ba4-0b76031b2240",
   "metadata": {},
   "source": [
    "The professor provided the code below as a baseline model with our goal being to design a model that can beat the MAE score resulting from the baseline model."
   ]
  },
  {
   "cell_type": "code",
   "execution_count": 150,
   "id": "8399e176-cc23-4cdb-9ab3-d6d52aca1606",
   "metadata": {},
   "outputs": [],
   "source": [
    "## Import all needed libraries\n",
    "import numpy as np\n",
    "import pandas as pd\n",
    "from sklearn.model_selection import train_test_split\n",
    "from sklearn.preprocessing import MinMaxScaler, StandardScaler\n",
    "from sklearn.preprocessing import FunctionTransformer\n",
    "from sklearn.metrics import accuracy_score\n",
    "from sklearn.tree import DecisionTreeRegressor, plot_tree\n",
    "from sklearn.ensemble import RandomForestRegressor\n",
    "from sklearn.model_selection import cross_val_score, cross_validate\n",
    "import json\n",
    "from sklearn.dummy import DummyRegressor\n",
    "from sklearn.linear_model import Ridge\n",
    "from sklearn.compose import ColumnTransformer\n",
    "from sklearn.pipeline import make_pipeline, Pipeline\n",
    "from sklearn.impute import SimpleImputer\n",
    "from sklearn.metrics import r2_score, mean_absolute_error\n",
    "import logging\n",
    "import zipfile"
   ]
  },
  {
   "cell_type": "code",
   "execution_count": 165,
   "id": "c5c9d3d6-4977-4419-b2de-6d02087aca06",
   "metadata": {},
   "outputs": [],
   "source": [
    "# Configure logging to output to the console\n",
    "logging.basicConfig(\n",
    "    level=logging.INFO,  # Set the logging level\n",
    "    format='%(asctime)s - %(levelname)s - %(message)s',  # Set the format of the log messages\n",
    "    handlers=[logging.StreamHandler()]  # Use StreamHandler to output to the console\n",
    ")\n",
    "\n",
    "## Provided baseline function from instructor to ensure comparability between all student models, including:\n",
    "## - creating baseline conditions for preprocessing pipelines (train_test_split ratios, random state, imputing or numeric columns, selecting features)\n",
    "## - creating Ridge Regression model using selected features\n",
    "## - generating & exporting final predictions in a standardized format for grading\n",
    "def baseline():\n",
    "    # Log the start of the process\n",
    "    logging.info(\"Reading train and test files\")\n",
    "\n",
    "    # Read the training and test data from JSON files\n",
    "    train = pd.read_json(\"train.json\", orient='records')\n",
    "    test = pd.read_json(\"test.json\", orient='records')\n",
    "\n",
    "    # Split the training data into training and validation sets\n",
    "    train, valid = train_test_split(train, test_size=1/3, random_state=123)\n",
    "\n",
    "    # Define a column transformer to preprocess the data\n",
    "    preprocess = ColumnTransformer(\n",
    "        transformers=[\n",
    "            (\"lat\", Pipeline(steps=[\n",
    "                ('imputer', SimpleImputer(strategy='mean')),  # Impute missing values with the mean\n",
    "            ]), [\"lat\"]),  # Apply to the 'lat' column\n",
    "            (\"lon\", Pipeline(steps=[\n",
    "                ('imputer', SimpleImputer(strategy='mean')),  # Impute missing values with the mean\n",
    "            ]), [\"lon\"]),  # Apply to the 'lon' column\n",
    "            (\"rooms\", Pipeline(steps=[\n",
    "                ('imputer', SimpleImputer(strategy='median')),  # Impute missing values with the median\n",
    "            ]), [\"rooms\"]),  # Apply to the 'rooms' column\n",
    "            (\"num_reviews\", Pipeline(steps=[\n",
    "                ('imputer', SimpleImputer(strategy='mean')),  # Impute missing values with the mean\n",
    "            ]), [\"num_reviews\"]),  # Apply to the 'num_reviews' column\n",
    "        ],\n",
    "        remainder='drop'  # Drop any other columns not specified\n",
    "    )\n",
    "\n",
    "    # Create a dummy regressor pipeline for baseline comparison\n",
    "    dummy = make_pipeline(preprocess, DummyRegressor())\n",
    "\n",
    "    # Create a Ridge regression pipeline as the base model\n",
    "    base = make_pipeline(preprocess, Ridge(alpha=1, random_state=123))\n",
    "\n",
    "    # Define the target label\n",
    "    label = 'revenue'\n",
    "\n",
    "    # Loop through the models and evaluate their performance\n",
    "    for model_name, model in [(\"mean\", dummy), (\"base\", base)]:\n",
    "        logging.info(f\"Fitting model {model_name}\")\n",
    "\n",
    "        # Fit the model on the training data\n",
    "        model.fit(train.drop([label], axis=1), np.log1p(train[label].values))\n",
    "\n",
    "        # Evaluate the model on both training and validation sets\n",
    "        for split_name, split in [(\"train     \", train), (\"valid     \", valid)]:\n",
    "            # Make predictions on the split\n",
    "            pred = np.expm1(model.predict(split.drop([label], axis=1)))\n",
    "\n",
    "            # Calculate the mean absolute error\n",
    "            mae = mean_absolute_error(split[label], pred)\n",
    "\n",
    "            # Log the performance\n",
    "            logging.info(f\"{model_name} {split_name} {mae:.3f}\")\n",
    "\n",
    "    # Make predictions on the test set using the base model\n",
    "    pred_test = np.expm1(base.predict(test))\n",
    "    test[label] = pred_test\n",
    "\n",
    "    # Convert the predictions to a list of dictionaries\n",
    "    predicted = test[['revenue']].to_dict(orient='records')\n",
    "\n",
    "    # Save the predictions to a ZIP file\n",
    "    with zipfile.ZipFile(\"baseline.zip\", \"w\", zipfile.ZIP_DEFLATED) as zipf:\n",
    "        # Write the predictions to a JSON file inside the ZIP\n",
    "        zipf.writestr(\"predicted.json\", json.dumps(predicted, indent=2))"
   ]
  },
  {
   "cell_type": "code",
   "execution_count": 7,
   "id": "44ec8f7c-1ad2-4490-933b-3697978e7756",
   "metadata": {},
   "outputs": [],
   "source": [
    "## Only run once to generate baseline.zip file with predicted values inside\n",
    "# baseline()"
   ]
  },
  {
   "cell_type": "code",
   "execution_count": 8,
   "id": "26c1ec1e-ac23-45b4-99c4-bbc22061d6aa",
   "metadata": {},
   "outputs": [],
   "source": [
    "predicted = pd.read_json('predicted.json', orient='records')"
   ]
  },
  {
   "cell_type": "code",
   "execution_count": 9,
   "id": "19c9ce3f-e142-42ec-a329-e80ef8b1b6a8",
   "metadata": {
    "scrolled": true
   },
   "outputs": [
    {
     "data": {
      "text/html": [
       "<div>\n",
       "<style scoped>\n",
       "    .dataframe tbody tr th:only-of-type {\n",
       "        vertical-align: middle;\n",
       "    }\n",
       "\n",
       "    .dataframe tbody tr th {\n",
       "        vertical-align: top;\n",
       "    }\n",
       "\n",
       "    .dataframe thead th {\n",
       "        text-align: right;\n",
       "    }\n",
       "</style>\n",
       "<table border=\"1\" class=\"dataframe\">\n",
       "  <thead>\n",
       "    <tr style=\"text-align: right;\">\n",
       "      <th></th>\n",
       "      <th>revenue</th>\n",
       "    </tr>\n",
       "  </thead>\n",
       "  <tbody>\n",
       "    <tr>\n",
       "      <th>0</th>\n",
       "      <td>11185.627182</td>\n",
       "    </tr>\n",
       "    <tr>\n",
       "      <th>1</th>\n",
       "      <td>18490.241258</td>\n",
       "    </tr>\n",
       "    <tr>\n",
       "      <th>2</th>\n",
       "      <td>12565.636481</td>\n",
       "    </tr>\n",
       "    <tr>\n",
       "      <th>3</th>\n",
       "      <td>39349.556210</td>\n",
       "    </tr>\n",
       "    <tr>\n",
       "      <th>4</th>\n",
       "      <td>8572.885913</td>\n",
       "    </tr>\n",
       "  </tbody>\n",
       "</table>\n",
       "</div>"
      ],
      "text/plain": [
       "        revenue\n",
       "0  11185.627182\n",
       "1  18490.241258\n",
       "2  12565.636481\n",
       "3  39349.556210\n",
       "4   8572.885913"
      ]
     },
     "execution_count": 9,
     "metadata": {},
     "output_type": "execute_result"
    }
   ],
   "source": [
    "predicted.head()"
   ]
  },
  {
   "cell_type": "code",
   "execution_count": 10,
   "id": "d520d4cd-9570-4c7c-adf9-85d4c6dc42b5",
   "metadata": {},
   "outputs": [
    {
     "data": {
      "text/html": [
       "<div>\n",
       "<style scoped>\n",
       "    .dataframe tbody tr th:only-of-type {\n",
       "        vertical-align: middle;\n",
       "    }\n",
       "\n",
       "    .dataframe tbody tr th {\n",
       "        vertical-align: top;\n",
       "    }\n",
       "\n",
       "    .dataframe thead th {\n",
       "        text-align: right;\n",
       "    }\n",
       "</style>\n",
       "<table border=\"1\" class=\"dataframe\">\n",
       "  <thead>\n",
       "    <tr style=\"text-align: right;\">\n",
       "      <th></th>\n",
       "      <th>revenue</th>\n",
       "    </tr>\n",
       "  </thead>\n",
       "  <tbody>\n",
       "    <tr>\n",
       "      <th>count</th>\n",
       "      <td>7.635000e+03</td>\n",
       "    </tr>\n",
       "    <tr>\n",
       "      <th>mean</th>\n",
       "      <td>1.622077e+04</td>\n",
       "    </tr>\n",
       "    <tr>\n",
       "      <th>std</th>\n",
       "      <td>2.417269e+04</td>\n",
       "    </tr>\n",
       "    <tr>\n",
       "      <th>min</th>\n",
       "      <td>2.849496e+03</td>\n",
       "    </tr>\n",
       "    <tr>\n",
       "      <th>25%</th>\n",
       "      <td>8.532010e+03</td>\n",
       "    </tr>\n",
       "    <tr>\n",
       "      <th>50%</th>\n",
       "      <td>1.186896e+04</td>\n",
       "    </tr>\n",
       "    <tr>\n",
       "      <th>75%</th>\n",
       "      <td>1.817209e+04</td>\n",
       "    </tr>\n",
       "    <tr>\n",
       "      <th>max</th>\n",
       "      <td>1.600669e+06</td>\n",
       "    </tr>\n",
       "  </tbody>\n",
       "</table>\n",
       "</div>"
      ],
      "text/plain": [
       "            revenue\n",
       "count  7.635000e+03\n",
       "mean   1.622077e+04\n",
       "std    2.417269e+04\n",
       "min    2.849496e+03\n",
       "25%    8.532010e+03\n",
       "50%    1.186896e+04\n",
       "75%    1.817209e+04\n",
       "max    1.600669e+06"
      ]
     },
     "execution_count": 10,
     "metadata": {},
     "output_type": "execute_result"
    }
   ],
   "source": [
    "predicted.describe()"
   ]
  },
  {
   "cell_type": "markdown",
   "id": "42c8c7f5-0b13-4929-8abd-c4d2ca8eff37",
   "metadata": {
    "jp-MarkdownHeadingCollapsed": true
   },
   "source": [
    "# Data Preparation"
   ]
  },
  {
   "cell_type": "markdown",
   "id": "962ceac5-ca48-49fb-b822-ae39656c8f48",
   "metadata": {},
   "source": [
    "## Explore data"
   ]
  },
  {
   "cell_type": "code",
   "execution_count": 13,
   "id": "408f72d4-3ba0-4a31-bf42-fa2bef571012",
   "metadata": {},
   "outputs": [],
   "source": [
    "train_df = pd.read_json(\"train.json\", orient='records')\n",
    "test_df = pd.read_json(\"test.json\", orient='records')"
   ]
  },
  {
   "cell_type": "code",
   "execution_count": 14,
   "id": "3b26e46d-72b7-4291-9739-20ac71a017a5",
   "metadata": {},
   "outputs": [
    {
     "data": {
      "text/html": [
       "<div>\n",
       "<style scoped>\n",
       "    .dataframe tbody tr th:only-of-type {\n",
       "        vertical-align: middle;\n",
       "    }\n",
       "\n",
       "    .dataframe tbody tr th {\n",
       "        vertical-align: top;\n",
       "    }\n",
       "\n",
       "    .dataframe thead th {\n",
       "        text-align: right;\n",
       "    }\n",
       "</style>\n",
       "<table border=\"1\" class=\"dataframe\">\n",
       "  <thead>\n",
       "    <tr style=\"text-align: right;\">\n",
       "      <th></th>\n",
       "      <th>host</th>\n",
       "      <th>name</th>\n",
       "      <th>lat</th>\n",
       "      <th>lon</th>\n",
       "      <th>rooms</th>\n",
       "      <th>bathrooms</th>\n",
       "      <th>room_type</th>\n",
       "      <th>beds</th>\n",
       "      <th>min_nights</th>\n",
       "      <th>num_reviews</th>\n",
       "      <th>rating</th>\n",
       "      <th>guests</th>\n",
       "      <th>listing_type</th>\n",
       "      <th>facilities</th>\n",
       "      <th>cancellation</th>\n",
       "    </tr>\n",
       "  </thead>\n",
       "  <tbody>\n",
       "    <tr>\n",
       "      <th>0</th>\n",
       "      <td>Fred</td>\n",
       "      <td>Unique 1 bedroom in Malaga's city centre</td>\n",
       "      <td>36.7200</td>\n",
       "      <td>-4.4177</td>\n",
       "      <td>1.0</td>\n",
       "      <td>1.0</td>\n",
       "      <td>entire_home</td>\n",
       "      <td>1.0</td>\n",
       "      <td>4</td>\n",
       "      <td>159</td>\n",
       "      <td>4.91</td>\n",
       "      <td>3.0</td>\n",
       "      <td>Entire rental unit</td>\n",
       "      <td>High chair TV Wifi Air conditioning Crib Kitch...</td>\n",
       "      <td>Firm</td>\n",
       "    </tr>\n",
       "    <tr>\n",
       "      <th>1</th>\n",
       "      <td>Patrizia</td>\n",
       "      <td>P&amp;F Apartment! and you're in Piazza Navona</td>\n",
       "      <td>41.8981</td>\n",
       "      <td>12.4714</td>\n",
       "      <td>2.0</td>\n",
       "      <td>1.0</td>\n",
       "      <td>entire_home</td>\n",
       "      <td>4.0</td>\n",
       "      <td>3</td>\n",
       "      <td>299</td>\n",
       "      <td>4.61</td>\n",
       "      <td>4.0</td>\n",
       "      <td>Entire rental unit</td>\n",
       "      <td>High chair TV Baby safety gates Wifi Air condi...</td>\n",
       "      <td>Flexible</td>\n",
       "    </tr>\n",
       "    <tr>\n",
       "      <th>2</th>\n",
       "      <td>Rafa</td>\n",
       "      <td>MLH (My Little Home) Free WiFi - A/C</td>\n",
       "      <td>39.4590</td>\n",
       "      <td>-0.3752</td>\n",
       "      <td>NaN</td>\n",
       "      <td>1.0</td>\n",
       "      <td>entire_home</td>\n",
       "      <td>1.0</td>\n",
       "      <td>7</td>\n",
       "      <td>223</td>\n",
       "      <td>4.75</td>\n",
       "      <td>2.0</td>\n",
       "      <td>Entire loft</td>\n",
       "      <td>TV Wifi Air conditioning Kitchen Room-darkenin...</td>\n",
       "      <td>Strict</td>\n",
       "    </tr>\n",
       "    <tr>\n",
       "      <th>3</th>\n",
       "      <td>Cristina</td>\n",
       "      <td>Casais da Bandeirinha</td>\n",
       "      <td>41.1440</td>\n",
       "      <td>-8.6211</td>\n",
       "      <td>3.0</td>\n",
       "      <td>1.0</td>\n",
       "      <td>entire_home</td>\n",
       "      <td>5.0</td>\n",
       "      <td>3</td>\n",
       "      <td>290</td>\n",
       "      <td>4.80</td>\n",
       "      <td>6.0</td>\n",
       "      <td>Entire rental unit</td>\n",
       "      <td>High chair TV Cable TV Children’s books and to...</td>\n",
       "      <td>Strict</td>\n",
       "    </tr>\n",
       "    <tr>\n",
       "      <th>4</th>\n",
       "      <td>Corinne</td>\n",
       "      <td>La Ville au Calme facing the Park</td>\n",
       "      <td>45.9073</td>\n",
       "      <td>6.1236</td>\n",
       "      <td>1.0</td>\n",
       "      <td>1.0</td>\n",
       "      <td>entire_home</td>\n",
       "      <td>1.0</td>\n",
       "      <td>2</td>\n",
       "      <td>60</td>\n",
       "      <td>4.60</td>\n",
       "      <td>2.0</td>\n",
       "      <td>Entire rental unit</td>\n",
       "      <td>TV Wifi Kitchen Room-darkening shades Hot wate...</td>\n",
       "      <td>Strict</td>\n",
       "    </tr>\n",
       "  </tbody>\n",
       "</table>\n",
       "</div>"
      ],
      "text/plain": [
       "       host                                        name      lat      lon  \\\n",
       "0      Fred    Unique 1 bedroom in Malaga's city centre  36.7200  -4.4177   \n",
       "1  Patrizia  P&F Apartment! and you're in Piazza Navona  41.8981  12.4714   \n",
       "2      Rafa        MLH (My Little Home) Free WiFi - A/C  39.4590  -0.3752   \n",
       "3  Cristina                       Casais da Bandeirinha  41.1440  -8.6211   \n",
       "4   Corinne           La Ville au Calme facing the Park  45.9073   6.1236   \n",
       "\n",
       "   rooms  bathrooms    room_type  beds  min_nights  num_reviews  rating  \\\n",
       "0    1.0        1.0  entire_home   1.0           4          159    4.91   \n",
       "1    2.0        1.0  entire_home   4.0           3          299    4.61   \n",
       "2    NaN        1.0  entire_home   1.0           7          223    4.75   \n",
       "3    3.0        1.0  entire_home   5.0           3          290    4.80   \n",
       "4    1.0        1.0  entire_home   1.0           2           60    4.60   \n",
       "\n",
       "   guests        listing_type  \\\n",
       "0     3.0  Entire rental unit   \n",
       "1     4.0  Entire rental unit   \n",
       "2     2.0         Entire loft   \n",
       "3     6.0  Entire rental unit   \n",
       "4     2.0  Entire rental unit   \n",
       "\n",
       "                                          facilities cancellation  \n",
       "0  High chair TV Wifi Air conditioning Crib Kitch...         Firm  \n",
       "1  High chair TV Baby safety gates Wifi Air condi...     Flexible  \n",
       "2  TV Wifi Air conditioning Kitchen Room-darkenin...       Strict  \n",
       "3  High chair TV Cable TV Children’s books and to...       Strict  \n",
       "4  TV Wifi Kitchen Room-darkening shades Hot wate...       Strict  "
      ]
     },
     "execution_count": 14,
     "metadata": {},
     "output_type": "execute_result"
    }
   ],
   "source": [
    "test_df.head()"
   ]
  },
  {
   "cell_type": "code",
   "execution_count": 15,
   "id": "c35a00ae-07fa-43a8-83e9-59f7f9560303",
   "metadata": {
    "scrolled": true
   },
   "outputs": [
    {
     "data": {
      "text/html": [
       "<div>\n",
       "<style scoped>\n",
       "    .dataframe tbody tr th:only-of-type {\n",
       "        vertical-align: middle;\n",
       "    }\n",
       "\n",
       "    .dataframe tbody tr th {\n",
       "        vertical-align: top;\n",
       "    }\n",
       "\n",
       "    .dataframe thead th {\n",
       "        text-align: right;\n",
       "    }\n",
       "</style>\n",
       "<table border=\"1\" class=\"dataframe\">\n",
       "  <thead>\n",
       "    <tr style=\"text-align: right;\">\n",
       "      <th></th>\n",
       "      <th>host</th>\n",
       "      <th>name</th>\n",
       "      <th>lat</th>\n",
       "      <th>lon</th>\n",
       "      <th>rooms</th>\n",
       "      <th>bathrooms</th>\n",
       "      <th>room_type</th>\n",
       "      <th>beds</th>\n",
       "      <th>min_nights</th>\n",
       "      <th>num_reviews</th>\n",
       "      <th>rating</th>\n",
       "      <th>guests</th>\n",
       "      <th>listing_type</th>\n",
       "      <th>facilities</th>\n",
       "      <th>cancellation</th>\n",
       "      <th>revenue</th>\n",
       "    </tr>\n",
       "  </thead>\n",
       "  <tbody>\n",
       "    <tr>\n",
       "      <th>0</th>\n",
       "      <td>Nino</td>\n",
       "      <td>Fashionable one-bedroom apartment</td>\n",
       "      <td>41.7228</td>\n",
       "      <td>44.7685</td>\n",
       "      <td>1.0</td>\n",
       "      <td>1.0</td>\n",
       "      <td>entire_home</td>\n",
       "      <td>1.0</td>\n",
       "      <td>2</td>\n",
       "      <td>102</td>\n",
       "      <td>4.90</td>\n",
       "      <td>3.0</td>\n",
       "      <td>Entire rental unit</td>\n",
       "      <td>TV Cable TV Blender Wifi Air conditioning Kitc...</td>\n",
       "      <td>Moderate</td>\n",
       "      <td>5941</td>\n",
       "    </tr>\n",
       "    <tr>\n",
       "      <th>1</th>\n",
       "      <td>Sydney</td>\n",
       "      <td>Nortico 7 Sea and Lake Views 2 Bedroom  Apartment</td>\n",
       "      <td>37.9910</td>\n",
       "      <td>-0.6720</td>\n",
       "      <td>2.0</td>\n",
       "      <td>1.0</td>\n",
       "      <td>entire_home</td>\n",
       "      <td>4.0</td>\n",
       "      <td>5</td>\n",
       "      <td>14</td>\n",
       "      <td>4.71</td>\n",
       "      <td>4.0</td>\n",
       "      <td>Entire rental unit</td>\n",
       "      <td>TV Wifi Air conditioning Pool Kitchen Hot wate...</td>\n",
       "      <td>Strict</td>\n",
       "      <td>3559</td>\n",
       "    </tr>\n",
       "    <tr>\n",
       "      <th>2</th>\n",
       "      <td>Robert And Pavel</td>\n",
       "      <td>Beautiful Apartment with Private Terrace in Ce...</td>\n",
       "      <td>50.0804</td>\n",
       "      <td>14.4548</td>\n",
       "      <td>1.0</td>\n",
       "      <td>1.0</td>\n",
       "      <td>entire_home</td>\n",
       "      <td>2.0</td>\n",
       "      <td>1</td>\n",
       "      <td>363</td>\n",
       "      <td>4.97</td>\n",
       "      <td>4.0</td>\n",
       "      <td>Entire condo</td>\n",
       "      <td>TV Cable TV Wifi Kitchen Hot water kettle Paid...</td>\n",
       "      <td>Strict</td>\n",
       "      <td>74005</td>\n",
       "    </tr>\n",
       "    <tr>\n",
       "      <th>3</th>\n",
       "      <td>Hr</td>\n",
       "      <td>Cosy Beach House Antibes S. France</td>\n",
       "      <td>43.5568</td>\n",
       "      <td>7.1339</td>\n",
       "      <td>NaN</td>\n",
       "      <td>1.0</td>\n",
       "      <td>entire_home</td>\n",
       "      <td>3.0</td>\n",
       "      <td>5</td>\n",
       "      <td>7</td>\n",
       "      <td>5.00</td>\n",
       "      <td>5.0</td>\n",
       "      <td>Entire villa</td>\n",
       "      <td>TV Wifi Waterfront Air conditioning Kitchen Ro...</td>\n",
       "      <td>Moderate</td>\n",
       "      <td>11723</td>\n",
       "    </tr>\n",
       "    <tr>\n",
       "      <th>4</th>\n",
       "      <td>Kévin</td>\n",
       "      <td>Sea sun smile ? It s here</td>\n",
       "      <td>43.5953</td>\n",
       "      <td>7.1036</td>\n",
       "      <td>NaN</td>\n",
       "      <td>1.0</td>\n",
       "      <td>entire_home</td>\n",
       "      <td>1.0</td>\n",
       "      <td>3</td>\n",
       "      <td>26</td>\n",
       "      <td>4.85</td>\n",
       "      <td>2.0</td>\n",
       "      <td>Entire condo</td>\n",
       "      <td>TV Cable TV Wifi Air conditioning Kitchen Free...</td>\n",
       "      <td>Flexible</td>\n",
       "      <td>11800</td>\n",
       "    </tr>\n",
       "  </tbody>\n",
       "</table>\n",
       "</div>"
      ],
      "text/plain": [
       "               host                                               name  \\\n",
       "0              Nino                  Fashionable one-bedroom apartment   \n",
       "1            Sydney  Nortico 7 Sea and Lake Views 2 Bedroom  Apartment   \n",
       "2  Robert And Pavel  Beautiful Apartment with Private Terrace in Ce...   \n",
       "3                Hr                 Cosy Beach House Antibes S. France   \n",
       "4             Kévin                          Sea sun smile ? It s here   \n",
       "\n",
       "       lat      lon  rooms  bathrooms    room_type  beds  min_nights  \\\n",
       "0  41.7228  44.7685    1.0        1.0  entire_home   1.0           2   \n",
       "1  37.9910  -0.6720    2.0        1.0  entire_home   4.0           5   \n",
       "2  50.0804  14.4548    1.0        1.0  entire_home   2.0           1   \n",
       "3  43.5568   7.1339    NaN        1.0  entire_home   3.0           5   \n",
       "4  43.5953   7.1036    NaN        1.0  entire_home   1.0           3   \n",
       "\n",
       "   num_reviews  rating  guests        listing_type  \\\n",
       "0          102    4.90     3.0  Entire rental unit   \n",
       "1           14    4.71     4.0  Entire rental unit   \n",
       "2          363    4.97     4.0        Entire condo   \n",
       "3            7    5.00     5.0        Entire villa   \n",
       "4           26    4.85     2.0        Entire condo   \n",
       "\n",
       "                                          facilities cancellation  revenue  \n",
       "0  TV Cable TV Blender Wifi Air conditioning Kitc...     Moderate     5941  \n",
       "1  TV Wifi Air conditioning Pool Kitchen Hot wate...       Strict     3559  \n",
       "2  TV Cable TV Wifi Kitchen Hot water kettle Paid...       Strict    74005  \n",
       "3  TV Wifi Waterfront Air conditioning Kitchen Ro...     Moderate    11723  \n",
       "4  TV Cable TV Wifi Air conditioning Kitchen Free...     Flexible    11800  "
      ]
     },
     "execution_count": 15,
     "metadata": {},
     "output_type": "execute_result"
    }
   ],
   "source": [
    "train_df.head()"
   ]
  },
  {
   "cell_type": "code",
   "execution_count": 16,
   "id": "68a884d5-8c45-4874-b52d-2112ebde4b8a",
   "metadata": {
    "scrolled": true
   },
   "outputs": [
    {
     "name": "stdout",
     "output_type": "stream",
     "text": [
      "<class 'pandas.core.frame.DataFrame'>\n",
      "RangeIndex: 15268 entries, 0 to 15267\n",
      "Data columns (total 16 columns):\n",
      " #   Column        Non-Null Count  Dtype  \n",
      "---  ------        --------------  -----  \n",
      " 0   host          14468 non-null  object \n",
      " 1   name          15261 non-null  object \n",
      " 2   lat           15268 non-null  float64\n",
      " 3   lon           15268 non-null  float64\n",
      " 4   rooms         12623 non-null  float64\n",
      " 5   bathrooms     15264 non-null  float64\n",
      " 6   room_type     15268 non-null  object \n",
      " 7   beds          15186 non-null  float64\n",
      " 8   min_nights    15268 non-null  int64  \n",
      " 9   num_reviews   15268 non-null  int64  \n",
      " 10  rating        15268 non-null  float64\n",
      " 11  guests        13527 non-null  float64\n",
      " 12  listing_type  15268 non-null  object \n",
      " 13  facilities    15268 non-null  object \n",
      " 14  cancellation  15087 non-null  object \n",
      " 15  revenue       15268 non-null  int64  \n",
      "dtypes: float64(7), int64(3), object(6)\n",
      "memory usage: 1.9+ MB\n"
     ]
    },
    {
     "data": {
      "text/plain": [
       "(15268, 16)"
      ]
     },
     "execution_count": 16,
     "metadata": {},
     "output_type": "execute_result"
    }
   ],
   "source": [
    "train_df.info()\n",
    "train_df.shape"
   ]
  },
  {
   "cell_type": "markdown",
   "id": "c874eaf6-87c8-460d-965a-d39f933e4e8a",
   "metadata": {},
   "source": [
    "### Check categorical variables"
   ]
  },
  {
   "cell_type": "markdown",
   "id": "67af9619-370c-48d0-931e-13f7f1e336aa",
   "metadata": {},
   "source": [
    "Conclusions:\n",
    "- Facilities & cancellation columns have too many different labels; will drop\n",
    "- listing_type column has redundant information compared to room_type; will drop\n",
    "- Keep only room_type column for categorical info"
   ]
  },
  {
   "cell_type": "code",
   "execution_count": 77,
   "id": "a47f1aab-f361-44b8-83b7-e5d28a9d8ead",
   "metadata": {},
   "outputs": [
    {
     "name": "stdout",
     "output_type": "stream",
     "text": [
      "room_type\n",
      "entire_home     13006\n",
      "private_room     2143\n",
      "hotel_room         91\n",
      "shared_room        28\n",
      "Name: count, dtype: int64\n",
      "-------------------------------\n",
      "listing_type\n",
      "Entire rental unit             9214\n",
      "Entire condo                   1489\n",
      "Private room in rental unit    1028\n",
      "Entire home                     721\n",
      "Entire loft                     464\n",
      "                               ... \n",
      "Private room in dome              1\n",
      "Private room in resort            1\n",
      "Camper/RV                         1\n",
      "Private room in tent              1\n",
      "Private room in camper/rv         1\n",
      "Name: count, Length: 74, dtype: int64\n",
      "-------------------------------\n",
      "facilities\n",
      "TV Cable TV Wifi Air conditioning Pool Hot water kettle Paid parking off premises Books and reading material Free street parking Outdoor furniture Cleaning products Drying rack for clothing Heating Clothing storage Wine glasses Washer Beach access First aid kit Fire extinguisher Essentials Shampoo Lock on bedroom door Hangers Hair dryer Iron Outdoor dining area Freezer Private entrance Crib Pack ’n play/Travel crib Room-darkening shades Hot water Body soap Outdoor shower Bed linens Extra pillows and blankets Coffee maker Refrigerator Dishes and silverware Cooking basics Stove Shower gel Patio or balcony Backyard Luggage dropoff allowed Long term stays allowed Cleaning before checkout Dining table Sun loungers Toaster    12\n",
      "High chair TV Wifi Air conditioning Crib Kitchen Pack ’n play/Travel crib Paid parking off premises Hot water Elevator Bed linens Free street parking Microwave Coffee maker Refrigerator Dishwasher Dishes and silverware Heating Cooking basics Oven Stove Washer Essentials Long term stays allowed Hangers Hair dryer Iron Dedicated workspace                                                                                                                                                                                                                                                                                                                                                                                                         7\n",
      "TV Washer Air conditioning Elevator Kitchen Essentials Heating                                                                                                                                                                                                                                                                                                                                                                                                                                                                                                                                                                                                                                                                                             5\n",
      "TV Cable TV Wifi Waterfront Air conditioning Kitchen Room-darkening shades Paid parking off premises Hot water Elevator Bed linens Extra pillows and blankets Microwave Coffee maker Refrigerator Dishes and silverware Heating Cooking basics Stove Single level home Smoke alarm Shower gel Carbon monoxide alarm First aid kit Fire extinguisher Luggage dropoff allowed Essentials Long term stays allowed Shampoo Hangers Hair dryer Iron Dedicated workspace                                                                                                                                                                                                                                                                                         5\n",
      "TV Cable TV Wifi Air conditioning Crib Kitchen Pack ’n play/Travel crib Paid parking off premises Hot water Elevator Hot tub Heating Cooking basics Washer Luggage dropoff allowed Essentials Shampoo Hangers Hair dryer Iron                                                                                                                                                                                                                                                                                                                                                                                                                                                                                                                              5\n",
      "                                                                                                                                                                                                                                                                                                                                                                                                                                                                                                                                                                                                                                                                                                                                                          ..\n",
      "High chair TV Wifi Air conditioning Crib Kitchen Pack ’n play/Travel crib Free parking on premises Hot water Microwave Coffee maker Refrigerator Dishes and silverware Heating Cooking basics Stove Washer Single level home Carbon monoxide alarm First aid kit Backyard Essentials Shampoo Cleaning before checkout Hangers Hair dryer Iron Freezer                                                                                                                                                                                                                                                                                                                                                                                                      1\n",
      "TV Cable TV Wifi Kitchen Hot water kettle Paid parking off premises Books and reading material Portable fans Elevator Laundromat nearby Cleaning products Drying rack for clothing Heating Clothing storage Wine glasses Washer Dryer Smoke alarm Carbon monoxide alarm Fire extinguisher Essentials Hangers Hair dryer Iron Dedicated workspace Freezer Rice maker Bathtub Pack ’n play/Travel crib Room-darkening shades Children’s dinnerware Hot water Bed linens Extra pillows and blankets Ethernet connection Microwave Coffee maker Refrigerator Dishwasher Dishes and silverware Cooking basics Oven Stove Single level home Patio or balcony Luggage dropoff allowed Long term stays allowed Dining table Outdoor playground Toaster             1\n",
      "TV Cable TV Wifi Air conditioning Kitchen Free parking on premises Room-darkening shades Hot water kettle Paid parking off premises Hot water Body soap Conditioner Elevator Bed linens Extra pillows and blankets Free street parking Ethernet connection Refrigerator Drying rack for clothing Dishes and silverware Heating Cooking basics Clothing storage Stove Wine glasses Washer Shower gel First aid kit Essentials Long term stays allowed Shampoo Hangers Dining table Hair dryer Iron Dedicated workspace Freezer                                                                                                                                                                                                                              1\n",
      "TV Cable TV Wifi Air conditioning Kitchen Hot water Breakfast Resort access Elevator Free street parking Microwave Refrigerator Dishes and silverware Heating Cooking basics Oven Stove Washer Dryer Smoke alarm Carbon monoxide alarm Essentials Shampoo Hangers Hair dryer Iron                                                                                                                                                                                                                                                                                                                                                                                                                                                                          1\n",
      "TV Children’s books and toys Wifi Crib Kitchen Hot water Breakfast Elevator Bed linens Extra pillows and blankets Free street parking Microwave Coffee maker Refrigerator Dishes and silverware Heating Cooking basics Oven Paid parking on premises Stove Washer Single level home Smoke alarm First aid kit Fire extinguisher Luggage dropoff allowed Essentials Long term stays allowed Shampoo Hangers Hair dryer Iron Dedicated workspace                                                                                                                                                                                                                                                                                                             1\n",
      "Name: count, Length: 15116, dtype: int64\n",
      "-------------------------------\n",
      "cancellation\n",
      "Strict                  5261\n",
      "Moderate                4962\n",
      "Flexible                2343\n",
      "Firm                    2291\n",
      "Super Strict 60 Days     117\n",
      "Super Strict 30 Days      99\n",
      "Refundable                 8\n",
      "Non-refundable             6\n",
      "Name: count, dtype: int64\n",
      "-------------------------------\n"
     ]
    }
   ],
   "source": [
    "## Check categories in each categorical column\n",
    "categorical = train_df[['room_type','listing_type','facilities','cancellation']]\n",
    "for column in categorical.columns:\n",
    "    print(categorical[column].value_counts())\n",
    "    print('-------------------------------')"
   ]
  },
  {
   "cell_type": "markdown",
   "id": "194cae6a-dab6-477a-91ac-0435ab13aa14",
   "metadata": {},
   "source": [
    "Conclusion from evaluating the value counts of categorical variables:\n",
    "- Listing type and room type have somewhat redundant information; much of the info will be preserved in room type\n",
    "- Listing type, cancellation and facilities have way too many unique categories too encode\n",
    "- Therefore, can drop these as a features"
   ]
  },
  {
   "cell_type": "markdown",
   "id": "382cee38-69cf-4898-b023-6833628e5681",
   "metadata": {},
   "source": [
    "### Missing values per column"
   ]
  },
  {
   "cell_type": "markdown",
   "id": "aa679170-3efc-4a7d-81e5-5708f8646338",
   "metadata": {},
   "source": [
    "Conclusion from missing data per column:\n",
    "- Can be seen in the head of the dataframe that many instances in the rooms column can be filled in based on the room_type column; if it is a private room, hotel room or shared room, the number of rooms should automatically be 1\n",
    "- Any other observations where the rooms value is missing but room_type is entire home will need to be dropped; not realistic to impute based off the data\n",
    "- Similarly, observations with missing values in bathrooms, cancellation, beds and guests will need to be dropped\n",
    "- Since the dataset has over 15,000 total observations, this should not effect the data integrity very much"
   ]
  },
  {
   "cell_type": "code",
   "execution_count": 21,
   "id": "8357c477-4c5c-4aee-a78b-949dd75c1458",
   "metadata": {},
   "outputs": [
    {
     "data": {
      "text/plain": [
       "rooms           17.323815\n",
       "guests          11.402934\n",
       "host             5.239717\n",
       "cancellation     1.185486\n",
       "beds             0.537071\n",
       "name             0.045848\n",
       "bathrooms        0.026199\n",
       "lat              0.000000\n",
       "lon              0.000000\n",
       "room_type        0.000000\n",
       "min_nights       0.000000\n",
       "num_reviews      0.000000\n",
       "rating           0.000000\n",
       "listing_type     0.000000\n",
       "facilities       0.000000\n",
       "revenue          0.000000\n",
       "dtype: float64"
      ]
     },
     "execution_count": 21,
     "metadata": {},
     "output_type": "execute_result"
    }
   ],
   "source": [
    "percent_missing = train_df.isna().sum()*100/len(train_df)\n",
    "percent_missing.sort_values(ascending=False)"
   ]
  },
  {
   "cell_type": "code",
   "execution_count": 23,
   "id": "123e27b0-bf6b-4cf6-bc39-d14dcf10673a",
   "metadata": {},
   "outputs": [],
   "source": [
    "singles = ['shared_room', 'private_room', 'hotel_room']\n",
    "rooms_test = train_df.copy()\n",
    "rooms_test.loc[train_df['room_type'].isin(singles), 'rooms'] = 1\n",
    "rooms_test.drop(labels=['host','name','listing_type', 'facilities','cancellation'], axis=1, inplace=True)"
   ]
  },
  {
   "cell_type": "code",
   "execution_count": 24,
   "id": "012bc090-50e4-40ca-aa15-90ef84d996d5",
   "metadata": {},
   "outputs": [
    {
     "data": {
      "text/plain": [
       "guests         11.402934\n",
       "rooms           6.739586\n",
       "beds            0.537071\n",
       "bathrooms       0.026199\n",
       "lat             0.000000\n",
       "lon             0.000000\n",
       "room_type       0.000000\n",
       "min_nights      0.000000\n",
       "num_reviews     0.000000\n",
       "rating          0.000000\n",
       "revenue         0.000000\n",
       "dtype: float64"
      ]
     },
     "execution_count": 24,
     "metadata": {},
     "output_type": "execute_result"
    }
   ],
   "source": [
    "percent_missing = rooms_test.isna().sum()*100/len(rooms_test)\n",
    "percent_missing.sort_values(ascending=False)"
   ]
  },
  {
   "cell_type": "code",
   "execution_count": 25,
   "id": "a6356f2a-05b5-4d77-9a94-4e082513be65",
   "metadata": {},
   "outputs": [
    {
     "name": "stdout",
     "output_type": "stream",
     "text": [
      "1029\n"
     ]
    }
   ],
   "source": [
    "print(rooms_test[rooms_test['room_type'] == 'entire_home']['rooms'].isna().sum())"
   ]
  },
  {
   "cell_type": "code",
   "execution_count": 26,
   "id": "07b957f8-c9d2-4feb-959d-2f33d46cb5f1",
   "metadata": {},
   "outputs": [
    {
     "data": {
      "text/plain": [
       "room_type\n",
       "entire_home     13006\n",
       "private_room     2143\n",
       "hotel_room         91\n",
       "shared_room        28\n",
       "Name: count, dtype: int64"
      ]
     },
     "execution_count": 26,
     "metadata": {},
     "output_type": "execute_result"
    }
   ],
   "source": [
    "rooms_test['room_type'].value_counts()"
   ]
  },
  {
   "cell_type": "markdown",
   "id": "96bfce78-bd65-4171-88e5-01d4a56fd0a4",
   "metadata": {},
   "source": [
    "### Skewness of key columns"
   ]
  },
  {
   "cell_type": "markdown",
   "id": "09b48278-626c-482f-90ba-1b1ccd4aa115",
   "metadata": {},
   "source": [
    "Final features selected based on above analysis:\n",
    "- lat\n",
    "- lon\n",
    "- rooms\n",
    "- room_type\n",
    "- min_nights\n",
    "- num_reviews\n",
    "- rating\n",
    "- revenue (Target)\n",
    "  \n",
    "Conclusions:\n",
    "- min_nights, rooms, num_reviews, rating and revenue will all require log transformation due to high skewness\n"
   ]
  },
  {
   "cell_type": "code",
   "execution_count": 28,
   "id": "91180e9f-c37c-4204-b4ee-83f481c5cb9f",
   "metadata": {},
   "outputs": [
    {
     "data": {
      "text/plain": [
       "<Axes: xlabel='min_nights'>"
      ]
     },
     "execution_count": 28,
     "metadata": {},
     "output_type": "execute_result"
    },
    {
     "data": {
      "image/png": "[encoded data removed]",
      "text/plain": [
       "<Figure size 640x480 with 1 Axes>"
      ]
     },
     "metadata": {},
     "output_type": "display_data"
    }
   ],
   "source": [
    "import matplotlib.pyplot as plt\n",
    "import seaborn as sns\n",
    "\n",
    "columns = ['min_nights', 'ratings', 'num_reviews', 'rooms']\n",
    "\n",
    "sns.boxplot(data=rooms_test, x='min_nights')"
   ]
  },
  {
   "cell_type": "code",
   "execution_count": 29,
   "id": "1ef0cf0e-3583-4211-94ad-aec69778ba21",
   "metadata": {
    "scrolled": true
   },
   "outputs": [
    {
     "data": {
      "text/plain": [
       "<Axes: xlabel='rating'>"
      ]
     },
     "execution_count": 29,
     "metadata": {},
     "output_type": "execute_result"
    },
    {
     "data": {
      "image/png": "[encoded data removed]",
      "text/plain": [
       "<Figure size 640x480 with 1 Axes>"
      ]
     },
     "metadata": {},
     "output_type": "display_data"
    }
   ],
   "source": [
    "sns.boxplot(data=rooms_test, x='rating')"
   ]
  },
  {
   "cell_type": "code",
   "execution_count": 30,
   "id": "c7f5fde4-5302-4a21-9844-442009b55d68",
   "metadata": {},
   "outputs": [
    {
     "data": {
      "text/plain": [
       "<Axes: xlabel='rooms'>"
      ]
     },
     "execution_count": 30,
     "metadata": {},
     "output_type": "execute_result"
    },
    {
     "data": {
      "image/png": "[encoded data removed]",
      "text/plain": [
       "<Figure size 640x480 with 1 Axes>"
      ]
     },
     "metadata": {},
     "output_type": "display_data"
    }
   ],
   "source": [
    "sns.boxplot(data=rooms_test, x='rooms')"
   ]
  },
  {
   "cell_type": "code",
   "execution_count": 31,
   "id": "cf9a187f-92c1-4eef-875b-ccd3258ba7c1",
   "metadata": {
    "scrolled": true
   },
   "outputs": [
    {
     "data": {
      "text/plain": [
       "<Axes: xlabel='revenue'>"
      ]
     },
     "execution_count": 31,
     "metadata": {},
     "output_type": "execute_result"
    },
    {
     "data": {
      "image/png": "[encoded data removed]",
      "text/plain": [
       "<Figure size 640x480 with 1 Axes>"
      ]
     },
     "metadata": {},
     "output_type": "display_data"
    }
   ],
   "source": [
    "sns.boxplot(data=rooms_test, x='revenue')"
   ]
  },
  {
   "cell_type": "code",
   "execution_count": 80,
   "id": "fac88211-9b7a-43ca-9ed3-9dbe6747e568",
   "metadata": {},
   "outputs": [
    {
     "data": {
      "text/plain": [
       "<Axes: xlabel='num_reviews'>"
      ]
     },
     "execution_count": 80,
     "metadata": {},
     "output_type": "execute_result"
    },
    {
     "data": {
      "image/png": "[encoded data removed]",
      "text/plain": [
       "<Figure size 640x480 with 1 Axes>"
      ]
     },
     "metadata": {},
     "output_type": "display_data"
    }
   ],
   "source": [
    "sns.boxplot(data=rooms_test, x='num_reviews')"
   ]
  },
  {
   "cell_type": "markdown",
   "id": "9a153019-7854-4bdf-816c-d5814d5e5be7",
   "metadata": {
    "jp-MarkdownHeadingCollapsed": true
   },
   "source": [
    "# Feature selection"
   ]
  },
  {
   "cell_type": "markdown",
   "id": "4f2747b0-9aa5-4a60-85f8-98519f4b7c78",
   "metadata": {},
   "source": [
    "Baseline model used:\n",
    "- Only numerical columns (lat, lon, rooms, num_reviews)\n",
    "\n",
    "Features to keep for my model:\n",
    "- lat\n",
    "- lon\n",
    "- rooms\n",
    "- room_type\n",
    "- min_nights\n",
    "- num_reviews\n",
    "- rating\n",
    "\n",
    "Features to drop for my model:\n",
    "- host\n",
    "- name\n",
    "- listing_type\n",
    "- guests\n",
    "- bathrooms\n",
    "- beds\n",
    "- cancellation\n",
    "- facilities\n",
    "\n",
    "Transformations required:\n",
    "- Log transformation: to deal with skewness of revenue, rooms, min_nights, num_reviews, rating\n",
    "- Normalization: on all numerical columns so that all are on same scale\n",
    "- Median imputation, due to skewness: rooms (fill with 1 wherever room_type == shared room, hotel room or private room; fill with the median for all other missing values)\n",
    "- Mean imputation: lat and lon\n",
    "- Dummy encoding of categorical variables: room_type"
   ]
  },
  {
   "cell_type": "markdown",
   "id": "e5b0f5de-5052-4210-af72-41f6afeaf79a",
   "metadata": {
    "jp-MarkdownHeadingCollapsed": true
   },
   "source": [
    "## Identifying correlated features"
   ]
  },
  {
   "cell_type": "code",
   "execution_count": 214,
   "id": "8f4515cc-90ff-48fc-ac21-0d3a2f2bc3a2",
   "metadata": {},
   "outputs": [],
   "source": [
    "corr_matrix = X_train.corr()"
   ]
  },
  {
   "cell_type": "code",
   "execution_count": 216,
   "id": "dea7425a-9aeb-4e14-870c-093751f273b7",
   "metadata": {},
   "outputs": [
    {
     "data": {
      "text/html": [
       "<div>\n",
       "<style scoped>\n",
       "    .dataframe tbody tr th:only-of-type {\n",
       "        vertical-align: middle;\n",
       "    }\n",
       "\n",
       "    .dataframe tbody tr th {\n",
       "        vertical-align: top;\n",
       "    }\n",
       "\n",
       "    .dataframe thead th {\n",
       "        text-align: right;\n",
       "    }\n",
       "</style>\n",
       "<table border=\"1\" class=\"dataframe\">\n",
       "  <thead>\n",
       "    <tr style=\"text-align: right;\">\n",
       "      <th></th>\n",
       "      <th>lat</th>\n",
       "      <th>lon</th>\n",
       "      <th>rooms</th>\n",
       "      <th>min_nights</th>\n",
       "      <th>num_reviews</th>\n",
       "      <th>rating</th>\n",
       "      <th>entire_home</th>\n",
       "      <th>hotel_room</th>\n",
       "      <th>private_room</th>\n",
       "      <th>shared_room</th>\n",
       "    </tr>\n",
       "  </thead>\n",
       "  <tbody>\n",
       "    <tr>\n",
       "      <th>lat</th>\n",
       "      <td>1.000000</td>\n",
       "      <td>0.247216</td>\n",
       "      <td>-0.067921</td>\n",
       "      <td>0.020283</td>\n",
       "      <td>0.083600</td>\n",
       "      <td>0.032411</td>\n",
       "      <td>-0.095458</td>\n",
       "      <td>-0.028585</td>\n",
       "      <td>0.100298</td>\n",
       "      <td>0.029526</td>\n",
       "    </tr>\n",
       "    <tr>\n",
       "      <th>lon</th>\n",
       "      <td>0.247216</td>\n",
       "      <td>1.000000</td>\n",
       "      <td>-0.104263</td>\n",
       "      <td>-0.004115</td>\n",
       "      <td>-0.046086</td>\n",
       "      <td>0.069402</td>\n",
       "      <td>0.018970</td>\n",
       "      <td>0.047393</td>\n",
       "      <td>-0.031588</td>\n",
       "      <td>0.016466</td>\n",
       "    </tr>\n",
       "    <tr>\n",
       "      <th>rooms</th>\n",
       "      <td>-0.067921</td>\n",
       "      <td>-0.104263</td>\n",
       "      <td>1.000000</td>\n",
       "      <td>0.000622</td>\n",
       "      <td>-0.132133</td>\n",
       "      <td>0.005180</td>\n",
       "      <td>0.282190</td>\n",
       "      <td>-0.051066</td>\n",
       "      <td>-0.273789</td>\n",
       "      <td>-0.027042</td>\n",
       "    </tr>\n",
       "    <tr>\n",
       "      <th>min_nights</th>\n",
       "      <td>0.020283</td>\n",
       "      <td>-0.004115</td>\n",
       "      <td>0.000622</td>\n",
       "      <td>1.000000</td>\n",
       "      <td>-0.036112</td>\n",
       "      <td>-0.005177</td>\n",
       "      <td>0.013477</td>\n",
       "      <td>-0.010008</td>\n",
       "      <td>-0.011169</td>\n",
       "      <td>-0.003623</td>\n",
       "    </tr>\n",
       "    <tr>\n",
       "      <th>num_reviews</th>\n",
       "      <td>0.083600</td>\n",
       "      <td>-0.046086</td>\n",
       "      <td>-0.132133</td>\n",
       "      <td>-0.036112</td>\n",
       "      <td>1.000000</td>\n",
       "      <td>0.101946</td>\n",
       "      <td>-0.060672</td>\n",
       "      <td>0.002201</td>\n",
       "      <td>0.062718</td>\n",
       "      <td>-0.010634</td>\n",
       "    </tr>\n",
       "    <tr>\n",
       "      <th>rating</th>\n",
       "      <td>0.032411</td>\n",
       "      <td>0.069402</td>\n",
       "      <td>0.005180</td>\n",
       "      <td>-0.005177</td>\n",
       "      <td>0.101946</td>\n",
       "      <td>1.000000</td>\n",
       "      <td>0.006354</td>\n",
       "      <td>-0.036198</td>\n",
       "      <td>0.002591</td>\n",
       "      <td>-0.010437</td>\n",
       "    </tr>\n",
       "    <tr>\n",
       "      <th>entire_home</th>\n",
       "      <td>-0.095458</td>\n",
       "      <td>0.018970</td>\n",
       "      <td>0.282190</td>\n",
       "      <td>0.013477</td>\n",
       "      <td>-0.060672</td>\n",
       "      <td>0.006354</td>\n",
       "      <td>1.000000</td>\n",
       "      <td>-0.182089</td>\n",
       "      <td>-0.970590</td>\n",
       "      <td>-0.096440</td>\n",
       "    </tr>\n",
       "    <tr>\n",
       "      <th>hotel_room</th>\n",
       "      <td>-0.028585</td>\n",
       "      <td>0.047393</td>\n",
       "      <td>-0.051066</td>\n",
       "      <td>-0.010008</td>\n",
       "      <td>0.002201</td>\n",
       "      <td>-0.036198</td>\n",
       "      <td>-0.182089</td>\n",
       "      <td>1.000000</td>\n",
       "      <td>-0.031166</td>\n",
       "      <td>-0.003097</td>\n",
       "    </tr>\n",
       "    <tr>\n",
       "      <th>private_room</th>\n",
       "      <td>0.100298</td>\n",
       "      <td>-0.031588</td>\n",
       "      <td>-0.273789</td>\n",
       "      <td>-0.011169</td>\n",
       "      <td>0.062718</td>\n",
       "      <td>0.002591</td>\n",
       "      <td>-0.970590</td>\n",
       "      <td>-0.031166</td>\n",
       "      <td>1.000000</td>\n",
       "      <td>-0.016507</td>\n",
       "    </tr>\n",
       "    <tr>\n",
       "      <th>shared_room</th>\n",
       "      <td>0.029526</td>\n",
       "      <td>0.016466</td>\n",
       "      <td>-0.027042</td>\n",
       "      <td>-0.003623</td>\n",
       "      <td>-0.010634</td>\n",
       "      <td>-0.010437</td>\n",
       "      <td>-0.096440</td>\n",
       "      <td>-0.003097</td>\n",
       "      <td>-0.016507</td>\n",
       "      <td>1.000000</td>\n",
       "    </tr>\n",
       "  </tbody>\n",
       "</table>\n",
       "</div>"
      ],
      "text/plain": [
       "                   lat       lon     rooms  min_nights  num_reviews    rating  \\\n",
       "lat           1.000000  0.247216 -0.067921    0.020283     0.083600  0.032411   \n",
       "lon           0.247216  1.000000 -0.104263   -0.004115    -0.046086  0.069402   \n",
       "rooms        -0.067921 -0.104263  1.000000    0.000622    -0.132133  0.005180   \n",
       "min_nights    0.020283 -0.004115  0.000622    1.000000    -0.036112 -0.005177   \n",
       "num_reviews   0.083600 -0.046086 -0.132133   -0.036112     1.000000  0.101946   \n",
       "rating        0.032411  0.069402  0.005180   -0.005177     0.101946  1.000000   \n",
       "entire_home  -0.095458  0.018970  0.282190    0.013477    -0.060672  0.006354   \n",
       "hotel_room   -0.028585  0.047393 -0.051066   -0.010008     0.002201 -0.036198   \n",
       "private_room  0.100298 -0.031588 -0.273789   -0.011169     0.062718  0.002591   \n",
       "shared_room   0.029526  0.016466 -0.027042   -0.003623    -0.010634 -0.010437   \n",
       "\n",
       "              entire_home  hotel_room  private_room  shared_room  \n",
       "lat             -0.095458   -0.028585      0.100298     0.029526  \n",
       "lon              0.018970    0.047393     -0.031588     0.016466  \n",
       "rooms            0.282190   -0.051066     -0.273789    -0.027042  \n",
       "min_nights       0.013477   -0.010008     -0.011169    -0.003623  \n",
       "num_reviews     -0.060672    0.002201      0.062718    -0.010634  \n",
       "rating           0.006354   -0.036198      0.002591    -0.010437  \n",
       "entire_home      1.000000   -0.182089     -0.970590    -0.096440  \n",
       "hotel_room      -0.182089    1.000000     -0.031166    -0.003097  \n",
       "private_room    -0.970590   -0.031166      1.000000    -0.016507  \n",
       "shared_room     -0.096440   -0.003097     -0.016507     1.000000  "
      ]
     },
     "execution_count": 216,
     "metadata": {},
     "output_type": "execute_result"
    }
   ],
   "source": [
    "corr_matrix"
   ]
  },
  {
   "cell_type": "code",
   "execution_count": 218,
   "id": "1d1731aa-7bdf-42e1-b1a5-cf89c27ceb9a",
   "metadata": {},
   "outputs": [
    {
     "data": {
      "image/png": "[encoded data removed]",
      "text/plain": [
       "<Figure size 1200x800 with 2 Axes>"
      ]
     },
     "metadata": {},
     "output_type": "display_data"
    }
   ],
   "source": [
    "plt.figure(figsize=(12, 8))\n",
    "sns.heatmap(corr_matrix, annot=True, cmap='coolwarm')\n",
    "plt.show()"
   ]
  },
  {
   "cell_type": "markdown",
   "id": "b582103c-9991-4c52-8499-e487a0bc2b95",
   "metadata": {},
   "source": [
    "# Decision Tree & Random Forest Pipeline #1"
   ]
  },
  {
   "cell_type": "markdown",
   "id": "fb54751a-b678-4681-bc26-fb22dee81447",
   "metadata": {},
   "source": [
    "## Pre-processing steps:\n",
    "- Imputing 1 for a single room types with missing values in the rooms column\n",
    "- Imputing the median of the entire home category for missing rooms column values for all observations where room_type is \"entire_home\"\n",
    "- Filing remaining missing values in all highly skewed numeric columns with the median for that column\n",
    "- Using log transformation on highly skewed numerical columns to approximate a normal distribution (* this is not particularly important for decision tree and random forest models, but will be important if creating linear models later on)\n",
    "- Using dummy encoding of the room_type categorical column\n",
    "- Using MinMaxScaler() to normalize all numeric columns to values between 0 and 1\n",
    "\n",
    "## Training the models:\n",
    "- Split the data in to train and validation sets\n",
    "- Recombine briefly in order to uniformly apply dummy encoding and imputation\n",
    "- Re-split along the same indices previously defined in the train-validation split\n",
    "- Fit the pre-processing steps to the training data\n",
    "- Create DecisionTree and RandomForest regressor models\n",
    "- Fit each model on the training data\n",
    "- Evaluate the performance of each model on both the training and validation sets using MAE as the performance metric\n",
    "\n",
    "## Result:\n",
    "- Both models perform significantly better on the validation set than on the training set, indicating that the model is not overfitting to the training data\n",
    "- The RandomForest regressor model performs considerably better than the single DecisionTree model, as expected\n",
    "- The resulting MAE of the RandomForest regressor model compared to the reference model is 9854 vs. 9175"
   ]
  },
  {
   "cell_type": "code",
   "execution_count": 275,
   "id": "06b2bc02-c309-4924-8acc-e56feaf36f6e",
   "metadata": {},
   "outputs": [
    {
     "name": "stderr",
     "output_type": "stream",
     "text": [
      "2025-04-28 12:26:27,321 - INFO - Reading train and test files\n",
      "2025-04-28 12:26:27,553 - INFO - Fitting model decision_tree\n",
      "2025-04-28 12:26:27,621 - INFO - decision_tree train      0.000\n",
      "2025-04-28 12:26:27,641 - INFO - decision_tree valid      14394.548\n",
      "2025-04-28 12:26:27,642 - INFO - Fitting model random_forest\n",
      "2025-04-28 12:26:30,815 - INFO - random_forest train      4217.048\n",
      "2025-04-28 12:26:30,949 - INFO - random_forest valid      9854.950\n"
     ]
    }
   ],
   "source": [
    "# Set up logging\n",
    "logging.basicConfig(\n",
    "    level=logging.INFO,\n",
    "    format='%(asctime)s - %(levelname)s - %(message)s',\n",
    "    handlers=[logging.StreamHandler()]\n",
    ")\n",
    "\n",
    "# Log the start of the process\n",
    "logging.info(\"Reading train and test files\")\n",
    "\n",
    "# Read the training and test data from JSON files\n",
    "train = pd.read_json(\"train.json\", orient='records')\n",
    "test = pd.read_json(\"test.json\", orient='records')\n",
    "\n",
    "# Split the data into training and validation sets before dropping columns\n",
    "X = train.drop(labels='revenue', axis=1)\n",
    "y = train['revenue']\n",
    "X_train, X_valid, y_train, y_valid = train_test_split(X, y, test_size=0.2, random_state=123)\n",
    "\n",
    "# Combine all datasets to create consistent dummy variables across all observations in the next steps\n",
    "combined_df = pd.concat([X_train, X_valid, test], axis=0)\n",
    "\n",
    "# Columns to drop\n",
    "columns_to_drop = ['host', 'name', 'listing_type', 'facilities', 'cancellation', 'guests', 'bathrooms', 'beds']\n",
    "\n",
    "# Single room types to use for filling some missing values in rooms column\n",
    "singles = ['shared_room', 'private_room', 'hotel_room']\n",
    "\n",
    "# Drop columns in the columns_to_drop list\n",
    "combined_df.drop(labels=columns_to_drop, axis=1, inplace=True)\n",
    "\n",
    "# Correct rooms values for missing values in single room types\n",
    "combined_df.loc[combined_df['room_type'].isin(singles), 'rooms'] = 1\n",
    "\n",
    "# Create dummy codes for categorical room_type column\n",
    "roomtype_dummies = pd.get_dummies(combined_df['room_type'])\n",
    "combined_df = pd.concat([combined_df, roomtype_dummies], axis=1).drop(labels='room_type', axis=1)\n",
    "\n",
    "# Split the combined dataframe back into individual datasets\n",
    "X_train = combined_df.iloc[:len(X_train), :].reset_index(drop=True)\n",
    "X_valid = combined_df.iloc[len(X_train):len(X_train) + len(X_valid), :].reset_index(drop=True)\n",
    "test = combined_df.iloc[len(X_train) + len(X_valid):, :].reset_index(drop=True)\n",
    "\n",
    "# Create list of transformations to apply in preprocessing\n",
    "preprocess = ColumnTransformer(\n",
    "    transformers=[\n",
    "        # lat column: apply mean imputation and normalization\n",
    "        (\"lat\", Pipeline(steps=[\n",
    "            ('imputer', SimpleImputer(strategy='mean')),\n",
    "            ('scaler', MinMaxScaler())\n",
    "        ]), [\"lat\"]),\n",
    "        # lon column: apply mean imputation and normalization\n",
    "        (\"lon\", Pipeline(steps=[\n",
    "            ('imputer', SimpleImputer(strategy='mean')),\n",
    "            ('scaler', MinMaxScaler())\n",
    "        ]), [\"lon\"]),\n",
    "        # rooms column: apply median imputation (skewed data), log transformation (skewed data) and normalization\n",
    "        (\"rooms\", Pipeline(steps=[\n",
    "            ('imputer', SimpleImputer(strategy='median')),\n",
    "            ('log', FunctionTransformer(np.log1p, validate=True)),\n",
    "            ('scaler', MinMaxScaler())\n",
    "        ]), [\"rooms\"]),\n",
    "        # num_review column: apply median imputation (skewed data), log transformation (skewed data) and normalization\n",
    "        (\"num_reviews\", Pipeline(steps=[\n",
    "            ('imputer', SimpleImputer(strategy='median')),\n",
    "            ('log', FunctionTransformer(np.log1p, validate=True)),\n",
    "            ('scaler', MinMaxScaler())\n",
    "        ]), [\"num_reviews\"]),\n",
    "        # min_nights column: apply median imputation (skewed data), log transformation (skewed data) and normalization\n",
    "        (\"min_nights\", Pipeline(steps=[\n",
    "            ('imputer', SimpleImputer(strategy='median')),\n",
    "            ('log', FunctionTransformer(np.log1p, validate=True)),\n",
    "            ('scaler', MinMaxScaler())\n",
    "        ]), [\"min_nights\"]),\n",
    "        # rating column: apply median imputation (skewed data), log transformation (skewed data) and normalization\n",
    "        (\"rating\", Pipeline(steps=[\n",
    "            ('imputer', SimpleImputer(strategy='median')),\n",
    "            ('log', FunctionTransformer(np.log1p, validate=True)),\n",
    "            ('scaler', MinMaxScaler())\n",
    "        ]), [\"rating\"]),\n",
    "    ],\n",
    "    remainder='drop'\n",
    ")\n",
    "\n",
    "# Fit the preprocessing steps on the training data\n",
    "preprocess.fit(X_train)\n",
    "\n",
    "# Create a Decision Tree Regressor pipeline including preprocessing steps\n",
    "decision_tree = make_pipeline(preprocess, DecisionTreeRegressor(criterion='squared_error', random_state=123))\n",
    "\n",
    "# Create a Random Forest Regressor pipeline including preprocessing steps\n",
    "random_forest = make_pipeline(preprocess, RandomForestRegressor(criterion='squared_error', \n",
    "                                                                n_estimators=200, bootstrap=True, \n",
    "                                                                max_features='sqrt', \n",
    "                                                                random_state=123))\n",
    "\n",
    "# Define the target label\n",
    "label = 'revenue'\n",
    "\n",
    "# Loop through the models and evaluate their performance\n",
    "for model_name, model in [(\"decision_tree\", decision_tree), (\"random_forest\", random_forest)]:\n",
    "    logging.info(f\"Fitting model {model_name}\")\n",
    "\n",
    "    # Fit the model on the training data\n",
    "    model.fit(X_train, np.log1p(y_train.values))\n",
    "\n",
    "    # Evaluate the model on both training and validation sets\n",
    "    for split_name, X_split, y_split in [(\"train     \", X_train, y_train), (\"valid     \", X_valid, y_valid)]:\n",
    "        # Predict target values from the combined train and validation sets (X_split)\n",
    "        pred = np.expm1(model.predict(X_split))\n",
    "\n",
    "        # Calculate the mean absolute error\n",
    "        mae = mean_absolute_error(y_split, pred)\n",
    "\n",
    "        # Log the performance\n",
    "        logging.info(f\"{model_name} {split_name} {mae:.3f}\")\n",
    "\n",
    "# Make predictions on the test set using the random forest model\n",
    "pred_test = np.expm1(random_forest.predict(test))\n",
    "test[label] = pred_test\n",
    "\n",
    "# Convert the predictions to a list of dictionaries\n",
    "predicted = test[[label]].to_dict(orient='records')\n",
    "\n",
    "## Save the predictions to a ZIP file\n",
    "# with zipfile.ZipFile(\"cbjones.zip\", \"w\", zipfile.ZIP_DEFLATED) as zipf:\n",
    "    ## Write the predictions to a JSON file inside the ZIP\n",
    "    # zipf.writestr(\"cbjones_predicted.json\", json.dumps(predicted, indent=2))\n"
   ]
  },
  {
   "cell_type": "code",
   "execution_count": null,
   "id": "fb68ce92-4e4e-442e-b01d-cacc177f71ed",
   "metadata": {},
   "outputs": [],
   "source": [
    "predicted = pd.read_json('cbjones_predicted.json', orient='records')\n",
    "predicted.head()"
   ]
  },
  {
   "cell_type": "code",
   "execution_count": null,
   "id": "a20e9c54-5b55-4958-afd0-d8ad3533d286",
   "metadata": {},
   "outputs": [],
   "source": [
    "predicted.describe()"
   ]
  },
  {
   "cell_type": "markdown",
   "id": "a8f51e50-7bce-4908-a576-011542427ad3",
   "metadata": {
    "jp-MarkdownHeadingCollapsed": true
   },
   "source": [
    "# Other models to try:"
   ]
  },
  {
   "cell_type": "markdown",
   "id": "16baaffc-d8e7-47f5-b327-54cea740d11f",
   "metadata": {
    "jp-MarkdownHeadingCollapsed": true
   },
   "source": [
    "## Linear Regression (ridge / lasso)"
   ]
  },
  {
   "cell_type": "markdown",
   "id": "8f4c721d-64dc-4ca0-bcb3-409650714281",
   "metadata": {},
   "source": [
    "## KNN"
   ]
  },
  {
   "cell_type": "markdown",
   "id": "32235906-eca8-4357-8864-3a8fa7e97403",
   "metadata": {},
   "source": [
    "## Decision Tree & Random Forest #2"
   ]
  },
  {
   "cell_type": "markdown",
   "id": "1986420a-37f1-4c2f-8d15-b20d7905473f",
   "metadata": {},
   "source": [
    "Ideas to improve:\n",
    "- Add in K-fold cross validation! (this will not improve the model itself, but will give you more info on how it may perform on the unseen / test data)\n",
    "- In addition to K-fold, split training data in to train-valid-test instead of just train-valid\n",
    "- Add in bathrooms as feature?\n",
    "- Add cancellation as encoded dummy?\n",
    "- After imputing rooms, impute missing values for guests based on number of rooms, assuming (1 or 2?) people per room?"
   ]
  },
  {
   "cell_type": "code",
   "execution_count": 243,
   "id": "05fadfda-166e-4bba-a884-1751c3e66254",
   "metadata": {},
   "outputs": [
    {
     "name": "stderr",
     "output_type": "stream",
     "text": [
      "2025-04-27 18:16:13,755 - INFO - Reading train and test files\n",
      "2025-04-27 18:16:13,992 - INFO - Fitting model decision_tree\n",
      "2025-04-27 18:16:14,074 - INFO - decision_tree train      0.000\n",
      "2025-04-27 18:16:14,084 - INFO - decision_tree valid      14394.548\n",
      "2025-04-27 18:16:14,085 - INFO - Fitting model random_forest\n",
      "2025-04-27 18:16:17,166 - INFO - random_forest train      4217.048\n",
      "2025-04-27 18:16:17,300 - INFO - random_forest valid      9854.950\n"
     ]
    }
   ],
   "source": [
    "## So far, only changed median imputation for rooms based on both single and entire home; no other changes yet\n",
    "# Set up logging\n",
    "logging.basicConfig(\n",
    "    level=logging.INFO,\n",
    "    format='%(asctime)s - %(levelname)s - %(message)s',\n",
    "    handlers=[logging.StreamHandler()]\n",
    ")\n",
    "\n",
    "# Log the start of the process\n",
    "logging.info(\"Reading train and test files\")\n",
    "\n",
    "# Read the training and test data from JSON files\n",
    "train = pd.read_json(\"train.json\", orient='records')\n",
    "test = pd.read_json(\"test.json\", orient='records')\n",
    "\n",
    "# Split the data into training and validation sets before dropping columns\n",
    "X = train.drop(labels='revenue', axis=1)\n",
    "y = train['revenue']\n",
    "X_train, X_valid, y_train, y_valid = train_test_split(X, y, test_size=0.2, random_state=123)\n",
    "\n",
    "# Combine all datasets to create consistent dummy variables across all observations in the next steps\n",
    "combined_df = pd.concat([X_train, X_valid, test], axis=0)\n",
    "\n",
    "# Columns to drop\n",
    "# added drop to room_type\n",
    "columns_to_drop = ['host', 'name', 'listing_type', 'facilities', 'cancellation', 'guests', 'bathrooms', 'beds']\n",
    "\n",
    "# Single room types to use for filling some missing values in rooms column\n",
    "singles = ['shared_room', 'private_room', 'hotel_room']\n",
    "\n",
    "# Drop columns in the columns_to_drop list\n",
    "combined_df.drop(labels=columns_to_drop, axis=1, inplace=True)\n",
    "\n",
    "# Correct rooms values for missing values in single room types\n",
    "combined_df.loc[combined_df['room_type'].isin(singles), 'rooms'] = 1\n",
    "\n",
    "# Calculate the median value for the \"entire home\" category\n",
    "median_rooms_entire_home = combined_df[combined_df['room_type'] == 'entire home']['rooms'].median()\n",
    "\n",
    "# Impute the missing values in the 'rooms' column for the \"entire home\" category with the median\n",
    "combined_df.loc[(combined_df['room_type'] == 'entire home') & (combined_df['rooms'].isna()), 'rooms'] = median_rooms_entire_home\n",
    "\n",
    "# Ensure there are no remaining missing values in the 'rooms' column\n",
    "# if combined_df['rooms'].isna().any():\n",
    "    # raise ValueError(\"There are still missing values in the 'rooms' column after manual imputation.\")\n",
    "\n",
    "# Create dummy codes for categorical room_type column\n",
    "roomtype_dummies = pd.get_dummies(combined_df['room_type'])\n",
    "combined_df = pd.concat([combined_df, roomtype_dummies], axis=1).drop(labels='room_type', axis=1)\n",
    "\n",
    "# Split the combined dataframe back into individual datasets\n",
    "X_train = combined_df.iloc[:len(X_train), :].reset_index(drop=True)\n",
    "X_valid = combined_df.iloc[len(X_train):len(X_train) + len(X_valid), :].reset_index(drop=True)\n",
    "test = combined_df.iloc[len(X_train) + len(X_valid):, :].reset_index(drop=True)\n",
    "\n",
    "# Create list of transformations to apply in preprocessing\n",
    "preprocess = ColumnTransformer(\n",
    "    transformers=[\n",
    "        # lat column: apply mean imputation and normalization\n",
    "        (\"lat\", Pipeline(steps=[\n",
    "            ('imputer', SimpleImputer(strategy='mean')),\n",
    "            ('scaler', MinMaxScaler())\n",
    "        ]), [\"lat\"]),\n",
    "        # lon column: apply mean imputation and normalization\n",
    "        (\"lon\", Pipeline(steps=[\n",
    "            ('imputer', SimpleImputer(strategy='mean')),\n",
    "            ('scaler', MinMaxScaler())\n",
    "        ]), [\"lon\"]),\n",
    "        # rooms column: apply log transformation (skewed data) and normalization\n",
    "        (\"rooms\", Pipeline(steps=[\n",
    "            ('imputer', SimpleImputer(strategy='median')),\n",
    "            ('log', FunctionTransformer(np.log1p, validate=True)),\n",
    "            ('scaler', MinMaxScaler())\n",
    "        ]), [\"rooms\"]),\n",
    "        # num_review column: apply median imputation (skewed data), log transformation (skewed data) and normalization\n",
    "        (\"num_reviews\", Pipeline(steps=[\n",
    "            ('imputer', SimpleImputer(strategy='median')),\n",
    "            ('log', FunctionTransformer(np.log1p, validate=True)),\n",
    "            ('scaler', MinMaxScaler())\n",
    "        ]), [\"num_reviews\"]),\n",
    "        # min_nights column: apply median imputation (skewed data), log transformation (skewed data) and normalization\n",
    "        (\"min_nights\", Pipeline(steps=[\n",
    "            ('imputer', SimpleImputer(strategy='median')),\n",
    "            ('log', FunctionTransformer(np.log1p, validate=True)),\n",
    "            ('scaler', MinMaxScaler())\n",
    "        ]), [\"min_nights\"]),\n",
    "        # rating column: apply median imputation (skewed data), log transformation (skewed data) and normalization\n",
    "        (\"rating\", Pipeline(steps=[\n",
    "            ('imputer', SimpleImputer(strategy='median')),\n",
    "            ('log', FunctionTransformer(np.log1p, validate=True)),\n",
    "            ('scaler', MinMaxScaler())\n",
    "        ]), [\"rating\"]),\n",
    "    ],\n",
    "    remainder='drop'\n",
    ")\n",
    "\n",
    "# Fit the preprocessing steps on the training data\n",
    "preprocess.fit(X_train)\n",
    "\n",
    "# Create a Decision Tree Regressor pipeline including preprocessing steps\n",
    "decision_tree = make_pipeline(preprocess, DecisionTreeRegressor(criterion='squared_error', random_state=123))\n",
    "\n",
    "# Create a Random Forest Regressor pipeline including preprocessing steps\n",
    "random_forest = make_pipeline(preprocess, RandomForestRegressor(criterion='squared_error',\n",
    "                                                                n_estimators=200, bootstrap=True,\n",
    "                                                                max_features='sqrt',\n",
    "                                                                random_state=123))\n",
    "\n",
    "# Define the target label\n",
    "label = 'revenue'\n",
    "\n",
    "# Loop through the models and evaluate their performance\n",
    "for model_name, model in [(\"decision_tree\", decision_tree), (\"random_forest\", random_forest)]:\n",
    "    logging.info(f\"Fitting model {model_name}\")\n",
    "\n",
    "    # Fit the model on the training data\n",
    "    model.fit(X_train, np.log1p(y_train.values))\n",
    "\n",
    "    # Evaluate the model on both training and validation sets\n",
    "    for split_name, X_split, y_split in [(\"train     \", X_train, y_train), (\"valid     \", X_valid, y_valid)]:\n",
    "        ## Predict target values from the combined train and validation sets (X_split)\n",
    "        ## Retransform values out of log scale to compare to untransformed target values\n",
    "        pred = np.expm1(model.predict(X_split))\n",
    "\n",
    "        # Calculate the mean absolute error\n",
    "        mae = mean_absolute_error(y_split, pred)\n",
    "\n",
    "        # Log the performance\n",
    "        logging.info(f\"{model_name} {split_name} {mae:.3f}\")\n",
    "\n",
    "# Make predictions on the test set using the random forest model\n",
    "pred_test = np.expm1(random_forest.predict(test))\n",
    "test[label] = pred_test\n",
    "\n",
    "# Convert the predictions to a list of dictionaries\n",
    "predicted = test[[label]].to_dict(orient='records')\n",
    "\n",
    "# Save the predictions to a ZIP file\n",
    "# with zipfile.ZipFile(\"cbjones.zip\", \"w\", zipfile.ZIP_DEFLATED) as zipf:\n",
    "    # Write the predictions to a JSON file inside the ZIP\n",
    "    # zipf.writestr(\"cbjones_predicted.json\", json.dumps(predicted, indent=2))\n",
    "\n"
   ]
  }
 ],
 "metadata": {
  "kernelspec": {
   "display_name": "Python 3 (ipykernel)",
   "language": "python",
   "name": "python3"
  },
  "language_info": {
   "codemirror_mode": {
    "name": "ipython",
    "version": 3
   },
   "file_extension": ".py",
   "mimetype": "text/x-python",
   "name": "python",
   "nbconvert_exporter": "python",
   "pygments_lexer": "ipython3",
   "version": "3.12.4"
  }
 },
 "nbformat": 4,
 "nbformat_minor": 5
}
