{
 "cells": [
  {
   "cell_type": "markdown",
   "id": "ae923d41-e6e7-43b3-9a93-1cb42edf4b88",
   "metadata": {},
   "source": [
    "# To-Do's"
   ]
  },
  {
   "cell_type": "markdown",
   "id": "6897cc7f-63ba-40f2-af1d-b91e99afe49c",
   "metadata": {},
   "source": [
    "- [ ] Select models to try out; since you need to predict a continuous value (revenue), can use:\n",
    "\n",
    "      - Linear Regression\n",
    "      - Decision Tree\n",
    "      - KNN\n",
    "      - Gradient boosting machine\n",
    "      - SVM\n",
    "      - Neural network\n",
    "\n",
    "- [ ] Can I reasonably impute missng values for bathrooms, guests, or beds columns\n",
    "\n",
    "- [ ] Does adding more features to a machine learning model automatically make it better, or does this just lead to overfitting?\n",
    "\n",
    "- [ ] Should I use min_nights and ratings if they are highly skewed?\n",
    "\n",
    "- [ ] Could generate an average rating column using num_reviews and rating?\n",
    "\n",
    "- [ ] Should I keep the normaliztion method in the baseline?\n",
    "\n",
    "- [ ] Should I keep both room_type and cancellation or just room_type? How to encode? Will this make the data too high dimensional?"
   ]
  },
  {
   "cell_type": "markdown",
   "id": "b6b8558c-4088-4c35-a8ef-4e16b0f556be",
   "metadata": {},
   "source": [
    "# Project Description"
   ]
  },
  {
   "cell_type": "markdown",
   "id": "3e848c2e-42df-4501-8d06-1e8bc5040d00",
   "metadata": {},
   "source": [
    "# Establishing professor's baseline"
   ]
  },
  {
   "cell_type": "code",
   "execution_count": 6,
   "id": "8399e176-cc23-4cdb-9ab3-d6d52aca1606",
   "metadata": {},
   "outputs": [],
   "source": [
    "import numpy as np\n",
    "import pandas as pd\n",
    "from sklearn.model_selection import train_test_split\n",
    "from sklearn.metrics import accuracy_score\n",
    "from sklearn.tree import DecisionTreeClassifier, plot_tree\n",
    "from sklearn.ensemble import BaggingClassifier, RandomForestClassifier\n",
    "from sklearn.model_selection import cross_val_score, cross_validate\n",
    "import json\n",
    "from sklearn.dummy import DummyRegressor\n",
    "from sklearn.linear_model import Ridge\n",
    "from sklearn.compose import ColumnTransformer\n",
    "from sklearn.pipeline import make_pipeline, Pipeline\n",
    "from sklearn.impute import SimpleImputer\n",
    "from sklearn.metrics import r2_score, mean_absolute_error\n",
    "import logging\n",
    "import zipfile"
   ]
  },
  {
   "cell_type": "code",
   "execution_count": 7,
   "id": "c5c9d3d6-4977-4419-b2de-6d02087aca06",
   "metadata": {},
   "outputs": [],
   "source": [
    "# Configure logging to output to the console\n",
    "logging.basicConfig(\n",
    "    level=logging.INFO,  # Set the logging level\n",
    "    format='%(asctime)s - %(levelname)s - %(message)s',  # Set the format of the log messages\n",
    "    handlers=[logging.StreamHandler()]  # Use StreamHandler to output to the console\n",
    ")\n",
    "\n",
    "## Provided baseline function from instructor to ensure comparability between all student models, including:\n",
    "## - creating baseline conditions for preprocessing pipelines (train_test_split ratios, random state, imputing or numeric columns, selecting features)\n",
    "## - creating Ridge Regression model using selected features\n",
    "## - generating & exporting final predictions in a standardized format for grading\n",
    "def baseline():\n",
    "    # Log the start of the process\n",
    "    logging.info(\"Reading train and test files\")\n",
    "\n",
    "    # Read the training and test data from JSON files\n",
    "    train = pd.read_json(\"train.json\", orient='records')\n",
    "    test = pd.read_json(\"test.json\", orient='records')\n",
    "\n",
    "    # Split the training data into training and validation sets\n",
    "    train, valid = train_test_split(train, test_size=1/3, random_state=123)\n",
    "\n",
    "    # Define a column transformer to preprocess the data\n",
    "    preprocess = ColumnTransformer(\n",
    "        transformers=[\n",
    "            (\"lat\", Pipeline(steps=[\n",
    "                ('imputer', SimpleImputer(strategy='mean')),  # Impute missing values with the mean\n",
    "            ]), [\"lat\"]),  # Apply to the 'lat' column\n",
    "            (\"lon\", Pipeline(steps=[\n",
    "                ('imputer', SimpleImputer(strategy='mean')),  # Impute missing values with the mean\n",
    "            ]), [\"lon\"]),  # Apply to the 'lon' column\n",
    "            (\"rooms\", Pipeline(steps=[\n",
    "                ('imputer', SimpleImputer(strategy='median')),  # Impute missing values with the median\n",
    "            ]), [\"rooms\"]),  # Apply to the 'rooms' column\n",
    "            (\"num_reviews\", Pipeline(steps=[\n",
    "                ('imputer', SimpleImputer(strategy='mean')),  # Impute missing values with the mean\n",
    "            ]), [\"num_reviews\"]),  # Apply to the 'num_reviews' column\n",
    "        ],\n",
    "        remainder='drop'  # Drop any other columns not specified\n",
    "    )\n",
    "\n",
    "    # Create a dummy regressor pipeline for baseline comparison\n",
    "    dummy = make_pipeline(preprocess, DummyRegressor())\n",
    "\n",
    "    # Create a Ridge regression pipeline as the base model\n",
    "    base = make_pipeline(preprocess, Ridge(alpha=1, random_state=123))\n",
    "\n",
    "    # Define the target label\n",
    "    label = 'revenue'\n",
    "\n",
    "    # Loop through the models and evaluate their performance\n",
    "    for model_name, model in [(\"mean\", dummy), (\"base\", base)]:\n",
    "        logging.info(f\"Fitting model {model_name}\")\n",
    "\n",
    "        # Fit the model on the training data\n",
    "        model.fit(train.drop([label], axis=1), np.log1p(train[label].values))\n",
    "\n",
    "        # Evaluate the model on both training and validation sets\n",
    "        for split_name, split in [(\"train     \", train), (\"valid     \", valid)]:\n",
    "            # Make predictions on the split\n",
    "            pred = np.expm1(model.predict(split.drop([label], axis=1)))\n",
    "\n",
    "            # Calculate the mean absolute error\n",
    "            mae = mean_absolute_error(split[label], pred)\n",
    "\n",
    "            # Log the performance\n",
    "            logging.info(f\"{model_name} {split_name} {mae:.3f}\")\n",
    "\n",
    "    # Make predictions on the test set using the base model\n",
    "    pred_test = np.expm1(base.predict(test))\n",
    "    test[label] = pred_test\n",
    "\n",
    "    # Convert the predictions to a list of dictionaries\n",
    "    predicted = test[['revenue']].to_dict(orient='records')\n",
    "\n",
    "    # Save the predictions to a ZIP file\n",
    "    with zipfile.ZipFile(\"baseline.zip\", \"w\", zipfile.ZIP_DEFLATED) as zipf:\n",
    "        # Write the predictions to a JSON file inside the ZIP\n",
    "        zipf.writestr(\"predicted.json\", json.dumps(predicted, indent=2))"
   ]
  },
  {
   "cell_type": "code",
   "execution_count": 8,
   "id": "44ec8f7c-1ad2-4490-933b-3697978e7756",
   "metadata": {},
   "outputs": [
    {
     "name": "stderr",
     "output_type": "stream",
     "text": [
      "2025-04-25 19:46:34,342 - INFO - Reading train and test files\n",
      "2025-04-25 19:46:34,489 - INFO - Fitting model mean\n",
      "2025-04-25 19:46:34,506 - INFO - mean train      14798.557\n",
      "2025-04-25 19:46:34,512 - INFO - mean valid      14397.861\n",
      "2025-04-25 19:46:34,513 - INFO - Fitting model base\n",
      "2025-04-25 19:46:34,546 - INFO - base train      13112.186\n",
      "2025-04-25 19:46:34,553 - INFO - base valid      12699.005\n"
     ]
    }
   ],
   "source": [
    "## Only run once to generate baseline.zip file with predicted values inside\n",
    "# baseline()"
   ]
  },
  {
   "cell_type": "code",
   "execution_count": 9,
   "id": "26c1ec1e-ac23-45b4-99c4-bbc22061d6aa",
   "metadata": {},
   "outputs": [],
   "source": [
    "predicted = pd.read_json('predicted.json', orient='records')"
   ]
  },
  {
   "cell_type": "code",
   "execution_count": 10,
   "id": "19c9ce3f-e142-42ec-a329-e80ef8b1b6a8",
   "metadata": {
    "scrolled": true
   },
   "outputs": [
    {
     "data": {
      "text/html": [
       "<div>\n",
       "<style scoped>\n",
       "    .dataframe tbody tr th:only-of-type {\n",
       "        vertical-align: middle;\n",
       "    }\n",
       "\n",
       "    .dataframe tbody tr th {\n",
       "        vertical-align: top;\n",
       "    }\n",
       "\n",
       "    .dataframe thead th {\n",
       "        text-align: right;\n",
       "    }\n",
       "</style>\n",
       "<table border=\"1\" class=\"dataframe\">\n",
       "  <thead>\n",
       "    <tr style=\"text-align: right;\">\n",
       "      <th></th>\n",
       "      <th>revenue</th>\n",
       "    </tr>\n",
       "  </thead>\n",
       "  <tbody>\n",
       "    <tr>\n",
       "      <th>0</th>\n",
       "      <td>11185.627182</td>\n",
       "    </tr>\n",
       "    <tr>\n",
       "      <th>1</th>\n",
       "      <td>18490.241258</td>\n",
       "    </tr>\n",
       "    <tr>\n",
       "      <th>2</th>\n",
       "      <td>12565.636481</td>\n",
       "    </tr>\n",
       "    <tr>\n",
       "      <th>3</th>\n",
       "      <td>39349.556210</td>\n",
       "    </tr>\n",
       "    <tr>\n",
       "      <th>4</th>\n",
       "      <td>8572.885913</td>\n",
       "    </tr>\n",
       "  </tbody>\n",
       "</table>\n",
       "</div>"
      ],
      "text/plain": [
       "        revenue\n",
       "0  11185.627182\n",
       "1  18490.241258\n",
       "2  12565.636481\n",
       "3  39349.556210\n",
       "4   8572.885913"
      ]
     },
     "execution_count": 10,
     "metadata": {},
     "output_type": "execute_result"
    }
   ],
   "source": [
    "predicted.head()"
   ]
  },
  {
   "cell_type": "code",
   "execution_count": 11,
   "id": "d520d4cd-9570-4c7c-adf9-85d4c6dc42b5",
   "metadata": {},
   "outputs": [
    {
     "data": {
      "text/html": [
       "<div>\n",
       "<style scoped>\n",
       "    .dataframe tbody tr th:only-of-type {\n",
       "        vertical-align: middle;\n",
       "    }\n",
       "\n",
       "    .dataframe tbody tr th {\n",
       "        vertical-align: top;\n",
       "    }\n",
       "\n",
       "    .dataframe thead th {\n",
       "        text-align: right;\n",
       "    }\n",
       "</style>\n",
       "<table border=\"1\" class=\"dataframe\">\n",
       "  <thead>\n",
       "    <tr style=\"text-align: right;\">\n",
       "      <th></th>\n",
       "      <th>revenue</th>\n",
       "    </tr>\n",
       "  </thead>\n",
       "  <tbody>\n",
       "    <tr>\n",
       "      <th>count</th>\n",
       "      <td>7.635000e+03</td>\n",
       "    </tr>\n",
       "    <tr>\n",
       "      <th>mean</th>\n",
       "      <td>1.622077e+04</td>\n",
       "    </tr>\n",
       "    <tr>\n",
       "      <th>std</th>\n",
       "      <td>2.417269e+04</td>\n",
       "    </tr>\n",
       "    <tr>\n",
       "      <th>min</th>\n",
       "      <td>2.849496e+03</td>\n",
       "    </tr>\n",
       "    <tr>\n",
       "      <th>25%</th>\n",
       "      <td>8.532010e+03</td>\n",
       "    </tr>\n",
       "    <tr>\n",
       "      <th>50%</th>\n",
       "      <td>1.186896e+04</td>\n",
       "    </tr>\n",
       "    <tr>\n",
       "      <th>75%</th>\n",
       "      <td>1.817209e+04</td>\n",
       "    </tr>\n",
       "    <tr>\n",
       "      <th>max</th>\n",
       "      <td>1.600669e+06</td>\n",
       "    </tr>\n",
       "  </tbody>\n",
       "</table>\n",
       "</div>"
      ],
      "text/plain": [
       "            revenue\n",
       "count  7.635000e+03\n",
       "mean   1.622077e+04\n",
       "std    2.417269e+04\n",
       "min    2.849496e+03\n",
       "25%    8.532010e+03\n",
       "50%    1.186896e+04\n",
       "75%    1.817209e+04\n",
       "max    1.600669e+06"
      ]
     },
     "execution_count": 11,
     "metadata": {},
     "output_type": "execute_result"
    }
   ],
   "source": [
    "predicted.describe()"
   ]
  },
  {
   "cell_type": "markdown",
   "id": "42c8c7f5-0b13-4929-8abd-c4d2ca8eff37",
   "metadata": {},
   "source": [
    "# Data Preparation"
   ]
  },
  {
   "cell_type": "markdown",
   "id": "962ceac5-ca48-49fb-b822-ae39656c8f48",
   "metadata": {},
   "source": [
    "## Explore data"
   ]
  },
  {
   "cell_type": "code",
   "execution_count": 14,
   "id": "408f72d4-3ba0-4a31-bf42-fa2bef571012",
   "metadata": {},
   "outputs": [],
   "source": [
    "train_df = pd.read_json(\"train.json\", orient='records')\n",
    "test_df = pd.read_json(\"test.json\", orient='records')"
   ]
  },
  {
   "cell_type": "code",
   "execution_count": 15,
   "id": "3b26e46d-72b7-4291-9739-20ac71a017a5",
   "metadata": {},
   "outputs": [
    {
     "data": {
      "text/html": [
       "<div>\n",
       "<style scoped>\n",
       "    .dataframe tbody tr th:only-of-type {\n",
       "        vertical-align: middle;\n",
       "    }\n",
       "\n",
       "    .dataframe tbody tr th {\n",
       "        vertical-align: top;\n",
       "    }\n",
       "\n",
       "    .dataframe thead th {\n",
       "        text-align: right;\n",
       "    }\n",
       "</style>\n",
       "<table border=\"1\" class=\"dataframe\">\n",
       "  <thead>\n",
       "    <tr style=\"text-align: right;\">\n",
       "      <th></th>\n",
       "      <th>host</th>\n",
       "      <th>name</th>\n",
       "      <th>lat</th>\n",
       "      <th>lon</th>\n",
       "      <th>rooms</th>\n",
       "      <th>bathrooms</th>\n",
       "      <th>room_type</th>\n",
       "      <th>beds</th>\n",
       "      <th>min_nights</th>\n",
       "      <th>num_reviews</th>\n",
       "      <th>rating</th>\n",
       "      <th>guests</th>\n",
       "      <th>listing_type</th>\n",
       "      <th>facilities</th>\n",
       "      <th>cancellation</th>\n",
       "    </tr>\n",
       "  </thead>\n",
       "  <tbody>\n",
       "    <tr>\n",
       "      <th>0</th>\n",
       "      <td>Fred</td>\n",
       "      <td>Unique 1 bedroom in Malaga's city centre</td>\n",
       "      <td>36.7200</td>\n",
       "      <td>-4.4177</td>\n",
       "      <td>1.0</td>\n",
       "      <td>1.0</td>\n",
       "      <td>entire_home</td>\n",
       "      <td>1.0</td>\n",
       "      <td>4</td>\n",
       "      <td>159</td>\n",
       "      <td>4.91</td>\n",
       "      <td>3.0</td>\n",
       "      <td>Entire rental unit</td>\n",
       "      <td>High chair TV Wifi Air conditioning Crib Kitch...</td>\n",
       "      <td>Firm</td>\n",
       "    </tr>\n",
       "    <tr>\n",
       "      <th>1</th>\n",
       "      <td>Patrizia</td>\n",
       "      <td>P&amp;F Apartment! and you're in Piazza Navona</td>\n",
       "      <td>41.8981</td>\n",
       "      <td>12.4714</td>\n",
       "      <td>2.0</td>\n",
       "      <td>1.0</td>\n",
       "      <td>entire_home</td>\n",
       "      <td>4.0</td>\n",
       "      <td>3</td>\n",
       "      <td>299</td>\n",
       "      <td>4.61</td>\n",
       "      <td>4.0</td>\n",
       "      <td>Entire rental unit</td>\n",
       "      <td>High chair TV Baby safety gates Wifi Air condi...</td>\n",
       "      <td>Flexible</td>\n",
       "    </tr>\n",
       "    <tr>\n",
       "      <th>2</th>\n",
       "      <td>Rafa</td>\n",
       "      <td>MLH (My Little Home) Free WiFi - A/C</td>\n",
       "      <td>39.4590</td>\n",
       "      <td>-0.3752</td>\n",
       "      <td>NaN</td>\n",
       "      <td>1.0</td>\n",
       "      <td>entire_home</td>\n",
       "      <td>1.0</td>\n",
       "      <td>7</td>\n",
       "      <td>223</td>\n",
       "      <td>4.75</td>\n",
       "      <td>2.0</td>\n",
       "      <td>Entire loft</td>\n",
       "      <td>TV Wifi Air conditioning Kitchen Room-darkenin...</td>\n",
       "      <td>Strict</td>\n",
       "    </tr>\n",
       "    <tr>\n",
       "      <th>3</th>\n",
       "      <td>Cristina</td>\n",
       "      <td>Casais da Bandeirinha</td>\n",
       "      <td>41.1440</td>\n",
       "      <td>-8.6211</td>\n",
       "      <td>3.0</td>\n",
       "      <td>1.0</td>\n",
       "      <td>entire_home</td>\n",
       "      <td>5.0</td>\n",
       "      <td>3</td>\n",
       "      <td>290</td>\n",
       "      <td>4.80</td>\n",
       "      <td>6.0</td>\n",
       "      <td>Entire rental unit</td>\n",
       "      <td>High chair TV Cable TV Children’s books and to...</td>\n",
       "      <td>Strict</td>\n",
       "    </tr>\n",
       "    <tr>\n",
       "      <th>4</th>\n",
       "      <td>Corinne</td>\n",
       "      <td>La Ville au Calme facing the Park</td>\n",
       "      <td>45.9073</td>\n",
       "      <td>6.1236</td>\n",
       "      <td>1.0</td>\n",
       "      <td>1.0</td>\n",
       "      <td>entire_home</td>\n",
       "      <td>1.0</td>\n",
       "      <td>2</td>\n",
       "      <td>60</td>\n",
       "      <td>4.60</td>\n",
       "      <td>2.0</td>\n",
       "      <td>Entire rental unit</td>\n",
       "      <td>TV Wifi Kitchen Room-darkening shades Hot wate...</td>\n",
       "      <td>Strict</td>\n",
       "    </tr>\n",
       "  </tbody>\n",
       "</table>\n",
       "</div>"
      ],
      "text/plain": [
       "       host                                        name      lat      lon  \\\n",
       "0      Fred    Unique 1 bedroom in Malaga's city centre  36.7200  -4.4177   \n",
       "1  Patrizia  P&F Apartment! and you're in Piazza Navona  41.8981  12.4714   \n",
       "2      Rafa        MLH (My Little Home) Free WiFi - A/C  39.4590  -0.3752   \n",
       "3  Cristina                       Casais da Bandeirinha  41.1440  -8.6211   \n",
       "4   Corinne           La Ville au Calme facing the Park  45.9073   6.1236   \n",
       "\n",
       "   rooms  bathrooms    room_type  beds  min_nights  num_reviews  rating  \\\n",
       "0    1.0        1.0  entire_home   1.0           4          159    4.91   \n",
       "1    2.0        1.0  entire_home   4.0           3          299    4.61   \n",
       "2    NaN        1.0  entire_home   1.0           7          223    4.75   \n",
       "3    3.0        1.0  entire_home   5.0           3          290    4.80   \n",
       "4    1.0        1.0  entire_home   1.0           2           60    4.60   \n",
       "\n",
       "   guests        listing_type  \\\n",
       "0     3.0  Entire rental unit   \n",
       "1     4.0  Entire rental unit   \n",
       "2     2.0         Entire loft   \n",
       "3     6.0  Entire rental unit   \n",
       "4     2.0  Entire rental unit   \n",
       "\n",
       "                                          facilities cancellation  \n",
       "0  High chair TV Wifi Air conditioning Crib Kitch...         Firm  \n",
       "1  High chair TV Baby safety gates Wifi Air condi...     Flexible  \n",
       "2  TV Wifi Air conditioning Kitchen Room-darkenin...       Strict  \n",
       "3  High chair TV Cable TV Children’s books and to...       Strict  \n",
       "4  TV Wifi Kitchen Room-darkening shades Hot wate...       Strict  "
      ]
     },
     "execution_count": 15,
     "metadata": {},
     "output_type": "execute_result"
    }
   ],
   "source": [
    "test_df.head()"
   ]
  },
  {
   "cell_type": "code",
   "execution_count": 16,
   "id": "c35a00ae-07fa-43a8-83e9-59f7f9560303",
   "metadata": {
    "scrolled": true
   },
   "outputs": [
    {
     "data": {
      "text/html": [
       "<div>\n",
       "<style scoped>\n",
       "    .dataframe tbody tr th:only-of-type {\n",
       "        vertical-align: middle;\n",
       "    }\n",
       "\n",
       "    .dataframe tbody tr th {\n",
       "        vertical-align: top;\n",
       "    }\n",
       "\n",
       "    .dataframe thead th {\n",
       "        text-align: right;\n",
       "    }\n",
       "</style>\n",
       "<table border=\"1\" class=\"dataframe\">\n",
       "  <thead>\n",
       "    <tr style=\"text-align: right;\">\n",
       "      <th></th>\n",
       "      <th>host</th>\n",
       "      <th>name</th>\n",
       "      <th>lat</th>\n",
       "      <th>lon</th>\n",
       "      <th>rooms</th>\n",
       "      <th>bathrooms</th>\n",
       "      <th>room_type</th>\n",
       "      <th>beds</th>\n",
       "      <th>min_nights</th>\n",
       "      <th>num_reviews</th>\n",
       "      <th>rating</th>\n",
       "      <th>guests</th>\n",
       "      <th>listing_type</th>\n",
       "      <th>facilities</th>\n",
       "      <th>cancellation</th>\n",
       "      <th>revenue</th>\n",
       "    </tr>\n",
       "  </thead>\n",
       "  <tbody>\n",
       "    <tr>\n",
       "      <th>0</th>\n",
       "      <td>Nino</td>\n",
       "      <td>Fashionable one-bedroom apartment</td>\n",
       "      <td>41.7228</td>\n",
       "      <td>44.7685</td>\n",
       "      <td>1.0</td>\n",
       "      <td>1.0</td>\n",
       "      <td>entire_home</td>\n",
       "      <td>1.0</td>\n",
       "      <td>2</td>\n",
       "      <td>102</td>\n",
       "      <td>4.90</td>\n",
       "      <td>3.0</td>\n",
       "      <td>Entire rental unit</td>\n",
       "      <td>TV Cable TV Blender Wifi Air conditioning Kitc...</td>\n",
       "      <td>Moderate</td>\n",
       "      <td>5941</td>\n",
       "    </tr>\n",
       "    <tr>\n",
       "      <th>1</th>\n",
       "      <td>Sydney</td>\n",
       "      <td>Nortico 7 Sea and Lake Views 2 Bedroom  Apartment</td>\n",
       "      <td>37.9910</td>\n",
       "      <td>-0.6720</td>\n",
       "      <td>2.0</td>\n",
       "      <td>1.0</td>\n",
       "      <td>entire_home</td>\n",
       "      <td>4.0</td>\n",
       "      <td>5</td>\n",
       "      <td>14</td>\n",
       "      <td>4.71</td>\n",
       "      <td>4.0</td>\n",
       "      <td>Entire rental unit</td>\n",
       "      <td>TV Wifi Air conditioning Pool Kitchen Hot wate...</td>\n",
       "      <td>Strict</td>\n",
       "      <td>3559</td>\n",
       "    </tr>\n",
       "    <tr>\n",
       "      <th>2</th>\n",
       "      <td>Robert And Pavel</td>\n",
       "      <td>Beautiful Apartment with Private Terrace in Ce...</td>\n",
       "      <td>50.0804</td>\n",
       "      <td>14.4548</td>\n",
       "      <td>1.0</td>\n",
       "      <td>1.0</td>\n",
       "      <td>entire_home</td>\n",
       "      <td>2.0</td>\n",
       "      <td>1</td>\n",
       "      <td>363</td>\n",
       "      <td>4.97</td>\n",
       "      <td>4.0</td>\n",
       "      <td>Entire condo</td>\n",
       "      <td>TV Cable TV Wifi Kitchen Hot water kettle Paid...</td>\n",
       "      <td>Strict</td>\n",
       "      <td>74005</td>\n",
       "    </tr>\n",
       "    <tr>\n",
       "      <th>3</th>\n",
       "      <td>Hr</td>\n",
       "      <td>Cosy Beach House Antibes S. France</td>\n",
       "      <td>43.5568</td>\n",
       "      <td>7.1339</td>\n",
       "      <td>NaN</td>\n",
       "      <td>1.0</td>\n",
       "      <td>entire_home</td>\n",
       "      <td>3.0</td>\n",
       "      <td>5</td>\n",
       "      <td>7</td>\n",
       "      <td>5.00</td>\n",
       "      <td>5.0</td>\n",
       "      <td>Entire villa</td>\n",
       "      <td>TV Wifi Waterfront Air conditioning Kitchen Ro...</td>\n",
       "      <td>Moderate</td>\n",
       "      <td>11723</td>\n",
       "    </tr>\n",
       "    <tr>\n",
       "      <th>4</th>\n",
       "      <td>Kévin</td>\n",
       "      <td>Sea sun smile ? It s here</td>\n",
       "      <td>43.5953</td>\n",
       "      <td>7.1036</td>\n",
       "      <td>NaN</td>\n",
       "      <td>1.0</td>\n",
       "      <td>entire_home</td>\n",
       "      <td>1.0</td>\n",
       "      <td>3</td>\n",
       "      <td>26</td>\n",
       "      <td>4.85</td>\n",
       "      <td>2.0</td>\n",
       "      <td>Entire condo</td>\n",
       "      <td>TV Cable TV Wifi Air conditioning Kitchen Free...</td>\n",
       "      <td>Flexible</td>\n",
       "      <td>11800</td>\n",
       "    </tr>\n",
       "  </tbody>\n",
       "</table>\n",
       "</div>"
      ],
      "text/plain": [
       "               host                                               name  \\\n",
       "0              Nino                  Fashionable one-bedroom apartment   \n",
       "1            Sydney  Nortico 7 Sea and Lake Views 2 Bedroom  Apartment   \n",
       "2  Robert And Pavel  Beautiful Apartment with Private Terrace in Ce...   \n",
       "3                Hr                 Cosy Beach House Antibes S. France   \n",
       "4             Kévin                          Sea sun smile ? It s here   \n",
       "\n",
       "       lat      lon  rooms  bathrooms    room_type  beds  min_nights  \\\n",
       "0  41.7228  44.7685    1.0        1.0  entire_home   1.0           2   \n",
       "1  37.9910  -0.6720    2.0        1.0  entire_home   4.0           5   \n",
       "2  50.0804  14.4548    1.0        1.0  entire_home   2.0           1   \n",
       "3  43.5568   7.1339    NaN        1.0  entire_home   3.0           5   \n",
       "4  43.5953   7.1036    NaN        1.0  entire_home   1.0           3   \n",
       "\n",
       "   num_reviews  rating  guests        listing_type  \\\n",
       "0          102    4.90     3.0  Entire rental unit   \n",
       "1           14    4.71     4.0  Entire rental unit   \n",
       "2          363    4.97     4.0        Entire condo   \n",
       "3            7    5.00     5.0        Entire villa   \n",
       "4           26    4.85     2.0        Entire condo   \n",
       "\n",
       "                                          facilities cancellation  revenue  \n",
       "0  TV Cable TV Blender Wifi Air conditioning Kitc...     Moderate     5941  \n",
       "1  TV Wifi Air conditioning Pool Kitchen Hot wate...       Strict     3559  \n",
       "2  TV Cable TV Wifi Kitchen Hot water kettle Paid...       Strict    74005  \n",
       "3  TV Wifi Waterfront Air conditioning Kitchen Ro...     Moderate    11723  \n",
       "4  TV Cable TV Wifi Air conditioning Kitchen Free...     Flexible    11800  "
      ]
     },
     "execution_count": 16,
     "metadata": {},
     "output_type": "execute_result"
    }
   ],
   "source": [
    "train_df.head()"
   ]
  },
  {
   "cell_type": "code",
   "execution_count": 17,
   "id": "68a884d5-8c45-4874-b52d-2112ebde4b8a",
   "metadata": {
    "scrolled": true
   },
   "outputs": [
    {
     "name": "stdout",
     "output_type": "stream",
     "text": [
      "<class 'pandas.core.frame.DataFrame'>\n",
      "RangeIndex: 15268 entries, 0 to 15267\n",
      "Data columns (total 16 columns):\n",
      " #   Column        Non-Null Count  Dtype  \n",
      "---  ------        --------------  -----  \n",
      " 0   host          14468 non-null  object \n",
      " 1   name          15261 non-null  object \n",
      " 2   lat           15268 non-null  float64\n",
      " 3   lon           15268 non-null  float64\n",
      " 4   rooms         12623 non-null  float64\n",
      " 5   bathrooms     15264 non-null  float64\n",
      " 6   room_type     15268 non-null  object \n",
      " 7   beds          15186 non-null  float64\n",
      " 8   min_nights    15268 non-null  int64  \n",
      " 9   num_reviews   15268 non-null  int64  \n",
      " 10  rating        15268 non-null  float64\n",
      " 11  guests        13527 non-null  float64\n",
      " 12  listing_type  15268 non-null  object \n",
      " 13  facilities    15268 non-null  object \n",
      " 14  cancellation  15087 non-null  object \n",
      " 15  revenue       15268 non-null  int64  \n",
      "dtypes: float64(7), int64(3), object(6)\n",
      "memory usage: 1.9+ MB\n"
     ]
    },
    {
     "data": {
      "text/plain": [
       "(15268, 16)"
      ]
     },
     "execution_count": 17,
     "metadata": {},
     "output_type": "execute_result"
    }
   ],
   "source": [
    "train_df.info()\n",
    "train_df.shape"
   ]
  },
  {
   "cell_type": "markdown",
   "id": "c874eaf6-87c8-460d-965a-d39f933e4e8a",
   "metadata": {},
   "source": [
    "### Check categorical variables"
   ]
  },
  {
   "cell_type": "code",
   "execution_count": 19,
   "id": "a47f1aab-f361-44b8-83b7-e5d28a9d8ead",
   "metadata": {},
   "outputs": [
    {
     "name": "stdout",
     "output_type": "stream",
     "text": [
      "room_type\n",
      "entire_home     13006\n",
      "private_room     2143\n",
      "hotel_room         91\n",
      "shared_room        28\n",
      "Name: count, dtype: int64\n",
      "-------------------------------\n",
      "listing_type\n",
      "Entire rental unit             9214\n",
      "Entire condo                   1489\n",
      "Private room in rental unit    1028\n",
      "Entire home                     721\n",
      "Entire loft                     464\n",
      "                               ... \n",
      "Private room in dome              1\n",
      "Private room in resort            1\n",
      "Camper/RV                         1\n",
      "Private room in tent              1\n",
      "Private room in camper/rv         1\n",
      "Name: count, Length: 74, dtype: int64\n",
      "-------------------------------\n",
      "cancellation\n",
      "Strict                  5261\n",
      "Moderate                4962\n",
      "Flexible                2343\n",
      "Firm                    2291\n",
      "Super Strict 60 Days     117\n",
      "Super Strict 30 Days      99\n",
      "Refundable                 8\n",
      "Non-refundable             6\n",
      "Name: count, dtype: int64\n",
      "-------------------------------\n"
     ]
    }
   ],
   "source": [
    "## Check categories in each categorical column\n",
    "categorical = train_df[['room_type','listing_type','cancellation']]\n",
    "for column in categorical.columns:\n",
    "    print(categorical[column].value_counts())\n",
    "    print('-------------------------------')"
   ]
  },
  {
   "cell_type": "markdown",
   "id": "194cae6a-dab6-477a-91ac-0435ab13aa14",
   "metadata": {},
   "source": [
    "Conclusion from evaluating the value counts of categorical variables:\n",
    "- Listing type and room type have somewhat redundant information\n",
    "- Listing type has way too many unique categories too encode\n",
    "- Therefore, can probably drop listing type as a feature since much of the info will be preserved in room type"
   ]
  },
  {
   "cell_type": "markdown",
   "id": "382cee38-69cf-4898-b023-6833628e5681",
   "metadata": {},
   "source": [
    "### Missing values per column"
   ]
  },
  {
   "cell_type": "code",
   "execution_count": 22,
   "id": "8357c477-4c5c-4aee-a78b-949dd75c1458",
   "metadata": {},
   "outputs": [
    {
     "data": {
      "text/plain": [
       "rooms           17.323815\n",
       "guests          11.402934\n",
       "host             5.239717\n",
       "cancellation     1.185486\n",
       "beds             0.537071\n",
       "name             0.045848\n",
       "bathrooms        0.026199\n",
       "lat              0.000000\n",
       "lon              0.000000\n",
       "room_type        0.000000\n",
       "min_nights       0.000000\n",
       "num_reviews      0.000000\n",
       "rating           0.000000\n",
       "listing_type     0.000000\n",
       "facilities       0.000000\n",
       "revenue          0.000000\n",
       "dtype: float64"
      ]
     },
     "execution_count": 22,
     "metadata": {},
     "output_type": "execute_result"
    }
   ],
   "source": [
    "percent_missing = train_df.isna().sum()*100/len(train_df)\n",
    "percent_missing.sort_values(ascending=False)"
   ]
  },
  {
   "cell_type": "markdown",
   "id": "aa679170-3efc-4a7d-81e5-5708f8646338",
   "metadata": {},
   "source": [
    "Conclusion from missing data per column:\n",
    "- Can be seen in the head of the dataframe that many instances in the rooms column can be filled in based on the room_type column; if it is a private room, hotel room or shared room, the number of rooms should automatically be 1\n",
    "- Any other observations where the rooms value is missing but room_type is entire home will need to be dropped; not realistic to impute based off the data\n",
    "- Similarly, observations with missing values in bathrooms, cancellation, beds and guests will need to be dropped\n",
    "- Since the dataset has over 15,000 total observations, this should not effect the data integrity very much"
   ]
  },
  {
   "cell_type": "code",
   "execution_count": 95,
   "id": "123e27b0-bf6b-4cf6-bc39-d14dcf10673a",
   "metadata": {},
   "outputs": [],
   "source": [
    "singles = ['shared_room', 'private_room', 'hotel_room']\n",
    "rooms_test = train_df.copy()\n",
    "rooms_test.loc[train_df['room_type'].isin(singles), 'rooms'] = 1\n",
    "rooms_test.drop(labels=['host','name','listing_type', 'facilities','cancellation'], axis=1, inplace=True)"
   ]
  },
  {
   "cell_type": "code",
   "execution_count": 111,
   "id": "012bc090-50e4-40ca-aa15-90ef84d996d5",
   "metadata": {},
   "outputs": [
    {
     "data": {
      "text/plain": [
       "guests         11.402934\n",
       "rooms           6.739586\n",
       "beds            0.537071\n",
       "bathrooms       0.026199\n",
       "lat             0.000000\n",
       "lon             0.000000\n",
       "room_type       0.000000\n",
       "min_nights      0.000000\n",
       "num_reviews     0.000000\n",
       "rating          0.000000\n",
       "revenue         0.000000\n",
       "dtype: float64"
      ]
     },
     "execution_count": 111,
     "metadata": {},
     "output_type": "execute_result"
    }
   ],
   "source": [
    "percent_missing = rooms_test.isna().sum()*100/len(rooms_test)\n",
    "percent_missing.sort_values(ascending=False)"
   ]
  },
  {
   "cell_type": "code",
   "execution_count": 113,
   "id": "a6356f2a-05b5-4d77-9a94-4e082513be65",
   "metadata": {},
   "outputs": [
    {
     "name": "stdout",
     "output_type": "stream",
     "text": [
      "1029\n"
     ]
    }
   ],
   "source": [
    "print(rooms_test[rooms_test['room_type'] == 'entire_home']['rooms'].isna().sum())"
   ]
  },
  {
   "cell_type": "code",
   "execution_count": 115,
   "id": "07b957f8-c9d2-4feb-959d-2f33d46cb5f1",
   "metadata": {},
   "outputs": [
    {
     "data": {
      "text/plain": [
       "room_type\n",
       "entire_home     13006\n",
       "private_room     2143\n",
       "hotel_room         91\n",
       "shared_room        28\n",
       "Name: count, dtype: int64"
      ]
     },
     "execution_count": 115,
     "metadata": {},
     "output_type": "execute_result"
    }
   ],
   "source": [
    "rooms_test['room_type'].value_counts()"
   ]
  },
  {
   "cell_type": "markdown",
   "id": "96bfce78-bd65-4171-88e5-01d4a56fd0a4",
   "metadata": {},
   "source": [
    "### Skewness of key columns"
   ]
  },
  {
   "cell_type": "code",
   "execution_count": 103,
   "id": "91180e9f-c37c-4204-b4ee-83f481c5cb9f",
   "metadata": {},
   "outputs": [
    {
     "data": {
      "text/plain": [
       "<Axes: xlabel='min_nights'>"
      ]
     },
     "execution_count": 103,
     "metadata": {},
     "output_type": "execute_result"
    },
    {
     "data": {
      "image/png": "[encoded data removed]",
      "text/plain": [
       "<Figure size 640x480 with 1 Axes>"
      ]
     },
     "metadata": {},
     "output_type": "display_data"
    }
   ],
   "source": [
    "import matplotlib.pyplot as plt\n",
    "import seaborn as sns\n",
    "\n",
    "columns = ['min_nights', 'ratings', 'num_reviews', 'rooms']\n",
    "\n",
    "sns.boxplot(data=rooms_test, x='min_nights')"
   ]
  },
  {
   "cell_type": "code",
   "execution_count": 105,
   "id": "1ef0cf0e-3583-4211-94ad-aec69778ba21",
   "metadata": {
    "scrolled": true
   },
   "outputs": [
    {
     "data": {
      "text/plain": [
       "<Axes: xlabel='rating'>"
      ]
     },
     "execution_count": 105,
     "metadata": {},
     "output_type": "execute_result"
    },
    {
     "data": {
      "image/png": "[encoded data removed]",
      "text/plain": [
       "<Figure size 640x480 with 1 Axes>"
      ]
     },
     "metadata": {},
     "output_type": "display_data"
    }
   ],
   "source": [
    "sns.boxplot(data=rooms_test, x='rating')"
   ]
  },
  {
   "cell_type": "code",
   "execution_count": 107,
   "id": "c7f5fde4-5302-4a21-9844-442009b55d68",
   "metadata": {},
   "outputs": [
    {
     "data": {
      "text/plain": [
       "<Axes: xlabel='rooms'>"
      ]
     },
     "execution_count": 107,
     "metadata": {},
     "output_type": "execute_result"
    },
    {
     "data": {
      "image/png": "[encoded data removed]",
      "text/plain": [
       "<Figure size 640x480 with 1 Axes>"
      ]
     },
     "metadata": {},
     "output_type": "display_data"
    }
   ],
   "source": [
    "sns.boxplot(data=rooms_test, x='rooms')"
   ]
  },
  {
   "cell_type": "code",
   "execution_count": 109,
   "id": "cf9a187f-92c1-4eef-875b-ccd3258ba7c1",
   "metadata": {},
   "outputs": [
    {
     "data": {
      "text/plain": [
       "<Axes: xlabel='revenue'>"
      ]
     },
     "execution_count": 109,
     "metadata": {},
     "output_type": "execute_result"
    },
    {
     "data": {
      "image/png": "[encoded data removed]",
      "text/plain": [
       "<Figure size 640x480 with 1 Axes>"
      ]
     },
     "metadata": {},
     "output_type": "display_data"
    }
   ],
   "source": [
    "sns.boxplot(data=rooms_test, x='revenue')"
   ]
  },
  {
   "cell_type": "markdown",
   "id": "9a153019-7854-4bdf-816c-d5814d5e5be7",
   "metadata": {},
   "source": [
    "## Feature selection"
   ]
  },
  {
   "cell_type": "markdown",
   "id": "4f2747b0-9aa5-4a60-85f8-98519f4b7c78",
   "metadata": {},
   "source": [
    "Baselin model used:\n",
    "- Only numerical columns (lat, lon, rooms, num_reviews)"
   ]
  },
  {
   "cell_type": "markdown",
   "id": "c68ef96d-c7eb-4504-8e1a-f39b9de6b8de",
   "metadata": {},
   "source": [
    "Features to drop:\n",
    "- host\n",
    "- name\n",
    "- listing_type\n",
    "\n",
    "Features to fill:\n",
    "- rooms (fill with 1 wherever room_type == shared room, hotel room or private room)\n",
    "\n",
    "After selected and filled:\n",
    "- Drop remaining observations where there is a missing value in any of the following columns: rooms, guests, cancellation, beds, bathrooms"
   ]
  },
  {
   "cell_type": "markdown",
   "id": "f27e42c0-fe05-4f27-845d-4679cd131f8b",
   "metadata": {},
   "source": [
    "## Removing outliers & errors"
   ]
  },
  {
   "cell_type": "code",
   "execution_count": 97,
   "id": "fe645380-f3c8-43bf-860d-31abdeb445f6",
   "metadata": {},
   "outputs": [],
   "source": [
    "numeric_columns = ['lat','lon','rooms','bathrooms','beds','min_nights','num_reviews','rating','guests']\n",
    "cat_columns = ['room_type','facilities','cancellation']"
   ]
  },
  {
   "cell_type": "code",
   "execution_count": 101,
   "id": "32b7fd2e-69c1-436e-980d-2e06615c7f1e",
   "metadata": {
    "scrolled": true
   },
   "outputs": [
    {
     "data": {
      "text/plain": [
       "lat               41.069514\n",
       "lon              164.110132\n",
       "rooms              1.140069\n",
       "bathrooms          0.609733\n",
       "beds               3.635413\n",
       "min_nights       715.359694\n",
       "num_reviews    28247.066272\n",
       "rating             0.205702\n",
       "guests             4.967427\n",
       "dtype: float64"
      ]
     },
     "execution_count": 101,
     "metadata": {},
     "output_type": "execute_result"
    }
   ],
   "source": [
    "train_df[numeric_columns].var()"
   ]
  },
  {
   "cell_type": "code",
   "execution_count": 116,
   "id": "478f0183-9b56-432e-a445-7884a5b4afa8",
   "metadata": {},
   "outputs": [
    {
     "data": {
      "text/plain": [
       "rooms\n",
       "1.0     6483\n",
       "2.0     3859\n",
       "3.0     1462\n",
       "4.0      452\n",
       "5.0      181\n",
       "6.0       69\n",
       "0.0       57\n",
       "7.0       28\n",
       "8.0       13\n",
       "9.0        9\n",
       "10.0       9\n",
       "17.0       1\n",
       "Name: count, dtype: int64"
      ]
     },
     "execution_count": 116,
     "metadata": {},
     "output_type": "execute_result"
    }
   ],
   "source": [
    "train_df['rooms'].value_counts(ascending=False)"
   ]
  },
  {
   "cell_type": "markdown",
   "id": "15c48ac2-f78b-4536-a294-3648ae04ab03",
   "metadata": {},
   "source": [
    "## Standardization & categorical feature encoding"
   ]
  },
  {
   "cell_type": "code",
   "execution_count": 89,
   "id": "2ebcf37b-866d-4b27-9655-5fe8109a3dde",
   "metadata": {
    "scrolled": true
   },
   "outputs": [
    {
     "data": {
      "text/html": [
       "<div>\n",
       "<style scoped>\n",
       "    .dataframe tbody tr th:only-of-type {\n",
       "        vertical-align: middle;\n",
       "    }\n",
       "\n",
       "    .dataframe tbody tr th {\n",
       "        vertical-align: top;\n",
       "    }\n",
       "\n",
       "    .dataframe thead th {\n",
       "        text-align: right;\n",
       "    }\n",
       "</style>\n",
       "<table border=\"1\" class=\"dataframe\">\n",
       "  <thead>\n",
       "    <tr style=\"text-align: right;\">\n",
       "      <th></th>\n",
       "      <th>entire_home</th>\n",
       "      <th>hotel_room</th>\n",
       "      <th>private_room</th>\n",
       "      <th>shared_room</th>\n",
       "    </tr>\n",
       "  </thead>\n",
       "  <tbody>\n",
       "    <tr>\n",
       "      <th>0</th>\n",
       "      <td>True</td>\n",
       "      <td>False</td>\n",
       "      <td>False</td>\n",
       "      <td>False</td>\n",
       "    </tr>\n",
       "    <tr>\n",
       "      <th>1</th>\n",
       "      <td>True</td>\n",
       "      <td>False</td>\n",
       "      <td>False</td>\n",
       "      <td>False</td>\n",
       "    </tr>\n",
       "    <tr>\n",
       "      <th>2</th>\n",
       "      <td>True</td>\n",
       "      <td>False</td>\n",
       "      <td>False</td>\n",
       "      <td>False</td>\n",
       "    </tr>\n",
       "    <tr>\n",
       "      <th>3</th>\n",
       "      <td>True</td>\n",
       "      <td>False</td>\n",
       "      <td>False</td>\n",
       "      <td>False</td>\n",
       "    </tr>\n",
       "    <tr>\n",
       "      <th>4</th>\n",
       "      <td>True</td>\n",
       "      <td>False</td>\n",
       "      <td>False</td>\n",
       "      <td>False</td>\n",
       "    </tr>\n",
       "    <tr>\n",
       "      <th>...</th>\n",
       "      <td>...</td>\n",
       "      <td>...</td>\n",
       "      <td>...</td>\n",
       "      <td>...</td>\n",
       "    </tr>\n",
       "    <tr>\n",
       "      <th>15263</th>\n",
       "      <td>True</td>\n",
       "      <td>False</td>\n",
       "      <td>False</td>\n",
       "      <td>False</td>\n",
       "    </tr>\n",
       "    <tr>\n",
       "      <th>15264</th>\n",
       "      <td>True</td>\n",
       "      <td>False</td>\n",
       "      <td>False</td>\n",
       "      <td>False</td>\n",
       "    </tr>\n",
       "    <tr>\n",
       "      <th>15265</th>\n",
       "      <td>True</td>\n",
       "      <td>False</td>\n",
       "      <td>False</td>\n",
       "      <td>False</td>\n",
       "    </tr>\n",
       "    <tr>\n",
       "      <th>15266</th>\n",
       "      <td>True</td>\n",
       "      <td>False</td>\n",
       "      <td>False</td>\n",
       "      <td>False</td>\n",
       "    </tr>\n",
       "    <tr>\n",
       "      <th>15267</th>\n",
       "      <td>True</td>\n",
       "      <td>False</td>\n",
       "      <td>False</td>\n",
       "      <td>False</td>\n",
       "    </tr>\n",
       "  </tbody>\n",
       "</table>\n",
       "<p>15268 rows × 4 columns</p>\n",
       "</div>"
      ],
      "text/plain": [
       "       entire_home  hotel_room  private_room  shared_room\n",
       "0             True       False         False        False\n",
       "1             True       False         False        False\n",
       "2             True       False         False        False\n",
       "3             True       False         False        False\n",
       "4             True       False         False        False\n",
       "...            ...         ...           ...          ...\n",
       "15263         True       False         False        False\n",
       "15264         True       False         False        False\n",
       "15265         True       False         False        False\n",
       "15266         True       False         False        False\n",
       "15267         True       False         False        False\n",
       "\n",
       "[15268 rows x 4 columns]"
      ]
     },
     "execution_count": 89,
     "metadata": {},
     "output_type": "execute_result"
    }
   ],
   "source": [
    "roomtype_dummies = pd.get_dummies(rooms_test['room_type'])\n",
    "roomtype_dummies"
   ]
  },
  {
   "cell_type": "code",
   "execution_count": 93,
   "id": "68580965-2cf7-46ac-a3b5-374bf21890ac",
   "metadata": {},
   "outputs": [
    {
     "data": {
      "text/html": [
       "<div>\n",
       "<style scoped>\n",
       "    .dataframe tbody tr th:only-of-type {\n",
       "        vertical-align: middle;\n",
       "    }\n",
       "\n",
       "    .dataframe tbody tr th {\n",
       "        vertical-align: top;\n",
       "    }\n",
       "\n",
       "    .dataframe thead th {\n",
       "        text-align: right;\n",
       "    }\n",
       "</style>\n",
       "<table border=\"1\" class=\"dataframe\">\n",
       "  <thead>\n",
       "    <tr style=\"text-align: right;\">\n",
       "      <th></th>\n",
       "      <th>lat</th>\n",
       "      <th>lon</th>\n",
       "      <th>rooms</th>\n",
       "      <th>bathrooms</th>\n",
       "      <th>beds</th>\n",
       "      <th>min_nights</th>\n",
       "      <th>num_reviews</th>\n",
       "      <th>rating</th>\n",
       "      <th>guests</th>\n",
       "      <th>facilities</th>\n",
       "      <th>cancellation</th>\n",
       "      <th>revenue</th>\n",
       "      <th>entire_home</th>\n",
       "      <th>hotel_room</th>\n",
       "      <th>private_room</th>\n",
       "      <th>shared_room</th>\n",
       "    </tr>\n",
       "  </thead>\n",
       "  <tbody>\n",
       "    <tr>\n",
       "      <th>0</th>\n",
       "      <td>41.7228</td>\n",
       "      <td>44.7685</td>\n",
       "      <td>1.0</td>\n",
       "      <td>1.0</td>\n",
       "      <td>1.0</td>\n",
       "      <td>2</td>\n",
       "      <td>102</td>\n",
       "      <td>4.90</td>\n",
       "      <td>3.0</td>\n",
       "      <td>TV Cable TV Blender Wifi Air conditioning Kitc...</td>\n",
       "      <td>Moderate</td>\n",
       "      <td>5941</td>\n",
       "      <td>True</td>\n",
       "      <td>False</td>\n",
       "      <td>False</td>\n",
       "      <td>False</td>\n",
       "    </tr>\n",
       "    <tr>\n",
       "      <th>1</th>\n",
       "      <td>37.9910</td>\n",
       "      <td>-0.6720</td>\n",
       "      <td>2.0</td>\n",
       "      <td>1.0</td>\n",
       "      <td>4.0</td>\n",
       "      <td>5</td>\n",
       "      <td>14</td>\n",
       "      <td>4.71</td>\n",
       "      <td>4.0</td>\n",
       "      <td>TV Wifi Air conditioning Pool Kitchen Hot wate...</td>\n",
       "      <td>Strict</td>\n",
       "      <td>3559</td>\n",
       "      <td>True</td>\n",
       "      <td>False</td>\n",
       "      <td>False</td>\n",
       "      <td>False</td>\n",
       "    </tr>\n",
       "    <tr>\n",
       "      <th>2</th>\n",
       "      <td>50.0804</td>\n",
       "      <td>14.4548</td>\n",
       "      <td>1.0</td>\n",
       "      <td>1.0</td>\n",
       "      <td>2.0</td>\n",
       "      <td>1</td>\n",
       "      <td>363</td>\n",
       "      <td>4.97</td>\n",
       "      <td>4.0</td>\n",
       "      <td>TV Cable TV Wifi Kitchen Hot water kettle Paid...</td>\n",
       "      <td>Strict</td>\n",
       "      <td>74005</td>\n",
       "      <td>True</td>\n",
       "      <td>False</td>\n",
       "      <td>False</td>\n",
       "      <td>False</td>\n",
       "    </tr>\n",
       "    <tr>\n",
       "      <th>3</th>\n",
       "      <td>43.5568</td>\n",
       "      <td>7.1339</td>\n",
       "      <td>NaN</td>\n",
       "      <td>1.0</td>\n",
       "      <td>3.0</td>\n",
       "      <td>5</td>\n",
       "      <td>7</td>\n",
       "      <td>5.00</td>\n",
       "      <td>5.0</td>\n",
       "      <td>TV Wifi Waterfront Air conditioning Kitchen Ro...</td>\n",
       "      <td>Moderate</td>\n",
       "      <td>11723</td>\n",
       "      <td>True</td>\n",
       "      <td>False</td>\n",
       "      <td>False</td>\n",
       "      <td>False</td>\n",
       "    </tr>\n",
       "    <tr>\n",
       "      <th>4</th>\n",
       "      <td>43.5953</td>\n",
       "      <td>7.1036</td>\n",
       "      <td>NaN</td>\n",
       "      <td>1.0</td>\n",
       "      <td>1.0</td>\n",
       "      <td>3</td>\n",
       "      <td>26</td>\n",
       "      <td>4.85</td>\n",
       "      <td>2.0</td>\n",
       "      <td>TV Cable TV Wifi Air conditioning Kitchen Free...</td>\n",
       "      <td>Flexible</td>\n",
       "      <td>11800</td>\n",
       "      <td>True</td>\n",
       "      <td>False</td>\n",
       "      <td>False</td>\n",
       "      <td>False</td>\n",
       "    </tr>\n",
       "  </tbody>\n",
       "</table>\n",
       "</div>"
      ],
      "text/plain": [
       "       lat      lon  rooms  bathrooms  beds  min_nights  num_reviews  rating  \\\n",
       "0  41.7228  44.7685    1.0        1.0   1.0           2          102    4.90   \n",
       "1  37.9910  -0.6720    2.0        1.0   4.0           5           14    4.71   \n",
       "2  50.0804  14.4548    1.0        1.0   2.0           1          363    4.97   \n",
       "3  43.5568   7.1339    NaN        1.0   3.0           5            7    5.00   \n",
       "4  43.5953   7.1036    NaN        1.0   1.0           3           26    4.85   \n",
       "\n",
       "   guests                                         facilities cancellation  \\\n",
       "0     3.0  TV Cable TV Blender Wifi Air conditioning Kitc...     Moderate   \n",
       "1     4.0  TV Wifi Air conditioning Pool Kitchen Hot wate...       Strict   \n",
       "2     4.0  TV Cable TV Wifi Kitchen Hot water kettle Paid...       Strict   \n",
       "3     5.0  TV Wifi Waterfront Air conditioning Kitchen Ro...     Moderate   \n",
       "4     2.0  TV Cable TV Wifi Air conditioning Kitchen Free...     Flexible   \n",
       "\n",
       "   revenue  entire_home  hotel_room  private_room  shared_room  \n",
       "0     5941         True       False         False        False  \n",
       "1     3559         True       False         False        False  \n",
       "2    74005         True       False         False        False  \n",
       "3    11723         True       False         False        False  \n",
       "4    11800         True       False         False        False  "
      ]
     },
     "execution_count": 93,
     "metadata": {},
     "output_type": "execute_result"
    }
   ],
   "source": [
    "new_train = pd.concat([rooms_test, roomtype_dummies], axis=1)\n",
    "new_train.drop(labels='room_type', axis=1, inplace=True)\n",
    "new_train.head()"
   ]
  },
  {
   "cell_type": "markdown",
   "id": "24a796e7-77d6-451d-a514-4e3e2fa4ce65",
   "metadata": {},
   "source": [
    "# Splitting Data"
   ]
  },
  {
   "cell_type": "markdown",
   "id": "242fa7b6-69c7-498a-bfe9-377cfa8b0c59",
   "metadata": {},
   "source": [
    "# Linear Regression"
   ]
  },
  {
   "cell_type": "markdown",
   "id": "04658acc-5635-4383-851d-e11006d40414",
   "metadata": {},
   "source": [
    "- [ ] Need to dummy encode categorical features (Room type, listing type, facilities, cancellation)"
   ]
  },
  {
   "cell_type": "markdown",
   "id": "7c3e15a0-a8e1-44ac-a65b-7c03548295de",
   "metadata": {},
   "source": [
    "# Decision Tree"
   ]
  },
  {
   "cell_type": "markdown",
   "id": "cf8ae45b-da74-4956-be76-fd8d9eb50a72",
   "metadata": {},
   "source": [
    "# Random Forest with Bagging"
   ]
  },
  {
   "cell_type": "markdown",
   "id": "bc985cb1-c493-4fb7-8c5a-1062ab17e22f",
   "metadata": {},
   "source": [
    "# KNN"
   ]
  },
  {
   "cell_type": "markdown",
   "id": "08f25bd6-9d53-41eb-9043-51869386415b",
   "metadata": {},
   "source": [
    "# My Final Function # 1"
   ]
  },
  {
   "cell_type": "code",
   "execution_count": null,
   "id": "d5038a3d-a658-4b41-850e-3bbdf8499a24",
   "metadata": {},
   "outputs": [],
   "source": [
    "# Final Function\n",
    "\n",
    "logging.basicConfig(\n",
    "    level=logging.INFO,  # Set the logging level\n",
    "    format='%(asctime)s - %(levelname)s - %(message)s',  # Set the format of the log messages\n",
    "    handlers=[logging.StreamHandler()]  # Use StreamHandler to output to the console\n",
    ")\n",
    "\n",
    "def my_models():\n",
    "    # Log the start of the process\n",
    "    logging.info(\"Reading train and test files\")\n",
    "    \n",
    "    # Read the training and test data from JSON files\n",
    "    train = pd.read_json(\"train.json\", orient='records')\n",
    "    test = pd.read_json(\"test.json\", orient='records')\n",
    "    \n",
    "    # Drop columns that aren't useufl or contain too much messy info\n",
    "    train.drop(labels=['host', 'name', 'listing_type', 'facilities','cancellation','guests','bathrooms','beds'], axis=1, inplace=True) ## Should change inplace to False ??\n",
    "\n",
    "    # Correct rooms values for single room types\n",
    "    singles = ['shared_room', 'private_room', 'hotel_room']\n",
    "    train.loc[train['room_type'].isin(singles), 'rooms'] = 1\n",
    "    # Create dummy codes for categorical room type values\n",
    "    roomtype_dummies = pd.get_dummies(train['room_type'])\n",
    "    new_train = pd.concat([train, roomtype_dummies], axis=1)\n",
    "    new_train.drop(labels='room_type', axis=1, inplace=True)\n",
    "\n",
    "    \n",
    "    # Split the training data into training and validation sets\n",
    "    train, valid = train_test_split(new_train, test_size=1/3, random_state=123)\n",
    "    \n",
    "    # Define the target label\n",
    "    label = 'revenue'\n",
    "\n",
    "    preprocess = ColumnTransformer(\n",
    "        transformers=[\n",
    "            (\"lat\", Pipeline(steps=[\n",
    "                ('imputer', SimpleImputer(strategy='mean')),  # Impute missing values with the mean\n",
    "            ]), [\"lat\"]),  # Apply to the 'lat' column\n",
    "            (\"lon\", Pipeline(steps=[\n",
    "                ('imputer', SimpleImputer(strategy='mean')),  # Impute missing values with the mean\n",
    "            ]), [\"lon\"]),  # Apply to the 'lon' column\n",
    "            (\"rooms\", Pipeline(steps=[\n",
    "                ('imputer', SimpleImputer(strategy='median')),  # Impute missing values with the median\n",
    "            ]), [\"rooms\"]),  # Apply to the 'rooms' column\n",
    "            (\"num_reviews\", Pipeline(steps=[\n",
    "                ('imputer', SimpleImputer(strategy='mean')),  # Impute missing values with the mean\n",
    "            ]), [\"num_reviews\"]),  # Apply to the 'num_reviews' column\n",
    "            (\"min_nights\", Pipeline(steps=[\n",
    "                ('imputer', SimpleImputer(strategy='median')),  # Impute missing values with the mean\n",
    "            ]), [\"min_nights\"]),  # Apply to the 'min_nights' column\n",
    "            (\"rating\", Pipeline(steps=[\n",
    "                ('imputer', SimpleImputer(strategy='median')),  # Impute missing values with the mean\n",
    "            ]), [\"rating\"]),  # Apply to the 'rating' column\n",
    "        ],\n",
    "        remainder='drop'  # Drop any other columns not specified\n",
    "    )\n",
    "        "
   ]
  }
 ],
 "metadata": {
  "kernelspec": {
   "display_name": "Python 3 (ipykernel)",
   "language": "python",
   "name": "python3"
  },
  "language_info": {
   "codemirror_mode": {
    "name": "ipython",
    "version": 3
   },
   "file_extension": ".py",
   "mimetype": "text/x-python",
   "name": "python",
   "nbconvert_exporter": "python",
   "pygments_lexer": "ipython3",
   "version": "3.12.4"
  }
 },
 "nbformat": 4,
 "nbformat_minor": 5
}
