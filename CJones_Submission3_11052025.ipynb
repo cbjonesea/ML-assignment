{
 "cells": [
  {
   "cell_type": "code",
   "execution_count": 3,
   "id": "8cc5983c-b8b4-4827-970b-f7da75da7810",
   "metadata": {},
   "outputs": [],
   "source": [
    "# --- Core ---\n",
    "import pandas as pd\n",
    "import numpy as np\n",
    "import logging\n",
    "import zipfile\n",
    "import json \n",
    "import os\n",
    "\n",
    "\n",
    "# --- Visualization ---\n",
    "import matplotlib.pyplot as plt\n",
    "import seaborn as sns\n",
    "\n",
    "# --- Scikit-learn: Preprocessing ---\n",
    "from sklearn.model_selection import train_test_split, GridSearchCV, RandomizedSearchCV\n",
    "from sklearn.pipeline import make_pipeline, Pipeline\n",
    "from sklearn.compose import ColumnTransformer\n",
    "from sklearn.preprocessing import OneHotEncoder, MinMaxScaler, StandardScaler, FunctionTransformer\n",
    "from sklearn.experimental import enable_iterative_imputer\n",
    "from sklearn.impute import SimpleImputer, KNNImputer, IterativeImputer\n",
    "\n",
    "# --- Scikit-learn: Models ---\n",
    "from sklearn.linear_model import Ridge, Lasso\n",
    "from sklearn.neighbors import KNeighborsRegressor\n",
    "from sklearn.ensemble import (\n",
    "    RandomForestRegressor,\n",
    "    GradientBoostingRegressor,\n",
    "    HistGradientBoostingRegressor,\n",
    "    VotingRegressor,\n",
    "    StackingRegressor\n",
    ")\n",
    "\n",
    "# --- Scikit-learn: Metrics ---\n",
    "from sklearn.metrics import mean_absolute_error\n",
    "\n",
    "# --- Other ML Libraries ---\n",
    "from xgboost import XGBRegressor\n",
    "from catboost import CatBoostRegressor\n",
    "from lightgbm import LGBMRegressor\n",
    "\n",
    "# --- Optional: Feature Engineering Tools ---\n",
    "# from sklearn.cluster import KMeans\n",
    "# from geopy.distance import geodesic\n",
    "\n",
    "# --- Warnings ---\n",
    "import warnings\n",
    "warnings.filterwarnings('ignore')\n"
   ]
  },
  {
   "cell_type": "code",
   "execution_count": 4,
   "id": "488368bb-6067-49d6-9599-4c4659dd1d0a",
   "metadata": {},
   "outputs": [
    {
     "name": "stderr",
     "output_type": "stream",
     "text": [
      "2025-05-11 15:06:24,009 - INFO - Loading train and test data...\n"
     ]
    }
   ],
   "source": [
    "import pandas as pd\n",
    "import numpy as np\n",
    "from sklearn.model_selection import train_test_split\n",
    "import logging\n",
    "\n",
    "# Set up logging\n",
    "logging.basicConfig(level=logging.INFO, format='%(asctime)s - %(levelname)s - %(message)s')\n",
    "\n",
    "# Load train and test data\n",
    "logging.info(\"Loading train and test data...\")\n",
    "data = pd.read_json(\"train.json\", orient=\"records\")\n",
    "test = pd.read_json(\"test.json\", orient=\"records\")\n",
    "\n",
    "# Drop unused columns\n",
    "drop_cols = ['host', 'name', 'facilities']\n",
    "data.drop(columns=drop_cols, inplace=True)\n",
    "\n",
    "# Domain-informed imputation: fill missing 'rooms' where room_type implies 1 room\n",
    "room_fill_mask = data['room_type'].isin(['private_room', 'shared_room', 'hotel_room']) & data['rooms'].isna()\n",
    "data.loc[room_fill_mask, 'rooms'] = 1 \n",
    "\n",
    "\n",
    "\n",
    "# Split BEFORE any transformations\n",
    "r_state = 123\n",
    "raw_train, raw_valid = train_test_split(data, test_size=1/3, random_state=r_state)\n",
    "\n",
    "\n"
   ]
  },
  {
   "cell_type": "code",
   "execution_count": 6,
   "id": "5a46af6c-2598-4eb3-827c-a9e60aafbbb2",
   "metadata": {},
   "outputs": [],
   "source": [
    "for i in [raw_train, raw_valid]:\n",
    "    i.drop(labels=['guests','listing_type'], axis=1,inplace=True)"
   ]
  },
  {
   "cell_type": "code",
   "execution_count": 8,
   "id": "0d6a9430-d8ae-4a29-b151-59a5b8ce9e11",
   "metadata": {},
   "outputs": [],
   "source": [
    "raw_train['lat_lon_product'] = raw_train['lat'] * raw_train['lon']\n",
    "raw_valid['lat_lon_product'] = raw_valid['lat'] * raw_valid['lon']"
   ]
  },
  {
   "cell_type": "code",
   "execution_count": 10,
   "id": "9d0487db-cf88-4a0b-9956-c1028e9d2fc6",
   "metadata": {},
   "outputs": [],
   "source": [
    "# Feature engineering on raw_train and raw_valid\n",
    "raw_train['rating_weighted'] = raw_train['rating'] * np.log1p(raw_train['num_reviews'])\n",
    "raw_valid['rating_weighted'] = raw_valid['rating'] * np.log1p(raw_valid['num_reviews'])"
   ]
  },
  {
   "cell_type": "code",
   "execution_count": 12,
   "id": "2898acb7-501d-4049-ae91-bbdb8d57bf4e",
   "metadata": {},
   "outputs": [],
   "source": [
    "# Define target variable\n",
    "target_col = 'revenue'\n",
    "\n",
    "# Split raw_train into X and y\n",
    "X_train = raw_train.drop(columns=[target_col])\n",
    "y_train = raw_train[target_col]\n",
    "\n",
    "# Split raw_valid into X and y\n",
    "X_valid = raw_valid.drop(columns=[target_col])\n",
    "y_valid = raw_valid[target_col]\n",
    "\n",
    "# For log-transformed regression:\n",
    "y_train_log = np.log1p(y_train)\n",
    "y_valid_log = np.log1p(y_valid)  # (optional, if needed for eval)\n"
   ]
  },
  {
   "cell_type": "code",
   "execution_count": 14,
   "id": "07008bff-f5b5-467a-97d6-c13ce8d173ef",
   "metadata": {},
   "outputs": [],
   "source": [
    "def make_preprocessor(imputation='simple', feature_set='basic'):\n",
    "    if feature_set == 'basic':\n",
    "        numeric_features = ['lat', 'lon', 'min_nights','rooms','bathrooms','beds','num_reviews','rating']\n",
    "        categorical_features = ['room_type', 'cancellation']\n",
    "    elif feature_set == 'engineered':\n",
    "        numeric_features = ['lat', 'lon', 'min_nights','rooms','bathrooms','beds','num_reviews','rating', 'rating_weighted','lat_lon_product']\n",
    "        categorical_features = ['room_type', 'cancellation']\n",
    "    elif feature_set == 'engineered_reduced':\n",
    "        numeric_features = ['min_nights','rooms','bathrooms','beds', 'rating_weighted','lat_lon_product']\n",
    "        categorical_features = ['room_type', 'cancellation']\n",
    "    else:\n",
    "        raise ValueError(\"Invalid feature_set\")\n",
    "\n",
    "    if imputation == 'simple':\n",
    "        num_imputer = SimpleImputer(strategy='mean')\n",
    "    elif imputation == 'knn':\n",
    "        num_imputer = KNNImputer(n_neighbors=5)\n",
    "    elif imputation == 'iterative':\n",
    "        num_imputer = IterativeImputer(random_state=0)\n",
    "    else:\n",
    "        raise ValueError(\"Invalid imputation type\")\n",
    "\n",
    "    numeric_pipeline = Pipeline(steps=[\n",
    "        ('imputer', num_imputer),\n",
    "        ('scaler', StandardScaler())\n",
    "    ])\n",
    "\n",
    "    categorical_pipeline = Pipeline(steps=[\n",
    "        ('imputer', SimpleImputer(strategy='most_frequent')),\n",
    "        ('encoder', OneHotEncoder(handle_unknown='ignore'))\n",
    "    ])\n",
    "\n",
    "    preprocessor = ColumnTransformer(transformers=[\n",
    "        ('num', numeric_pipeline, numeric_features),\n",
    "        ('cat', categorical_pipeline, categorical_features)\n",
    "    ])\n",
    "\n",
    "    preprocessor_name = f\"{imputation}_{feature_set}\"\n",
    "    return preprocessor, preprocessor_name\n"
   ]
  },
  {
   "cell_type": "code",
   "execution_count": 15,
   "id": "f6ff02f1-b1b9-42a5-826e-c0c072f7d97c",
   "metadata": {},
   "outputs": [],
   "source": [
    "def pipeline_iterator(model_type, imputation, feature_set, search_type=None, param_grid=None, n_iter=100, cv_folds=5):\n",
    "    if search_type not in [None, 'grid', 'random']:\n",
    "        raise ValueError(\"search_type must be None, 'grid', or 'random'.\")\n",
    "\n",
    "    if search_type in ['grid', 'random'] and param_grid is None:\n",
    "        raise ValueError(\"param_grid must be provided for search_type='grid' or 'random'.\")\n",
    "\n",
    "    if search_type is None and param_grid is not None:\n",
    "        logging.warning(\"param_grid is ignored since search_type is None.\")\n",
    "\n",
    "    # Instantiate model with random_state if possible\n",
    "    try:\n",
    "        model_instance = model_type(random_state=r_state)\n",
    "    except TypeError:\n",
    "        model_instance = model_type()\n",
    "\n",
    "    # Define the pipeline\n",
    "    preprocessor, preprocessor_name = make_preprocessor(imputation=imputation, feature_set=feature_set)\n",
    "    logging.info(f\"Using preprocessor: {preprocessor_name}\")\n",
    "    model_pipeline = make_pipeline(preprocessor, model_instance)\n",
    "\n",
    "\n",
    "    # Select the estimator based on search_type\n",
    "    if search_type == 'random':\n",
    "        estimator = RandomizedSearchCV(\n",
    "            estimator=model_pipeline,\n",
    "            param_distributions=param_grid,\n",
    "            n_iter=n_iter,\n",
    "            cv=cv_folds,\n",
    "            scoring='neg_mean_absolute_error',\n",
    "            random_state=r_state,\n",
    "            n_jobs=-1,\n",
    "            verbose=1\n",
    "        )\n",
    "    elif search_type == 'grid':\n",
    "        estimator = GridSearchCV(\n",
    "            estimator=model_pipeline,\n",
    "            param_grid=param_grid,\n",
    "            cv=cv_folds,\n",
    "            scoring='neg_mean_absolute_error',\n",
    "            verbose=1\n",
    "        )\n",
    "    else:\n",
    "        estimator = model_pipeline\n",
    "\n",
    "    logging.info(f\"Fitting model: {model_type.__name__} using {preprocessor_name} and search_type: {search_type or 'none'}\")\n",
    "    estimator.fit(X_train, y_train_log)\n",
    "\n",
    "    # If using CV, get the best estimator\n",
    "    if search_type in ['grid', 'random']:\n",
    "        best_model = estimator.best_estimator_\n",
    "        logging.info(f\"Best params: {estimator.best_params_}\")\n",
    "    else:\n",
    "        best_model = estimator\n",
    "\n",
    "    # Predictions\n",
    "    train_preds_log = best_model.predict(X_train)\n",
    "    valid_preds_log = best_model.predict(X_valid)\n",
    "\n",
    "    train_preds = np.expm1(train_preds_log)\n",
    "    valid_preds = np.expm1(valid_preds_log)\n",
    "\n",
    "    train_mae = mean_absolute_error(raw_train['revenue'], train_preds)\n",
    "    valid_mae = mean_absolute_error(y_valid, valid_preds)\n",
    "\n",
    "    logging.info(f\"{model_type.__name__} train MAE: {train_mae:.2f}\")\n",
    "    logging.info(f\"{model_type.__name__} valid MAE: {valid_mae:.2f}\")\n",
    "\n",
    "    # return best_model\n",
    "\n",
    "    return {\n",
    "    'pipeline': estimator,  # this will be a full Pipeline object (or best_estimator_ if using Grid/RandomSearch)\n",
    "    'train_mae': train_mae,\n",
    "    'valid_mae': valid_mae,\n",
    "    'mae_diff': abs(train_mae - valid_mae)\n",
    "        }\n",
    "\n"
   ]
  },
  {
   "cell_type": "code",
   "execution_count": 17,
   "id": "bb6bc544-6c3d-4658-b949-4ff1cb9a2dca",
   "metadata": {},
   "outputs": [
    {
     "name": "stderr",
     "output_type": "stream",
     "text": [
      "2025-05-11 15:06:24,293 - INFO - Using preprocessor: simple_engineered\n",
      "2025-05-11 15:06:24,293 - INFO - Fitting model: LGBMRegressor using simple_engineered and search_type: random\n"
     ]
    },
    {
     "name": "stdout",
     "output_type": "stream",
     "text": [
      "Fitting 5 folds for each of 100 candidates, totalling 500 fits\n"
     ]
    },
    {
     "name": "stderr",
     "output_type": "stream",
     "text": [
      "2025-05-11 15:07:42,286 - INFO - Best params: {'lgbmregressor__subsample': 1.0, 'lgbmregressor__reg_lambda': 0.0, 'lgbmregressor__reg_alpha': 0.5, 'lgbmregressor__num_leaves': 15, 'lgbmregressor__n_estimators': 300, 'lgbmregressor__min_child_samples': 10, 'lgbmregressor__max_depth': 10, 'lgbmregressor__learning_rate': 0.1, 'lgbmregressor__colsample_bytree': 0.6}\n"
     ]
    },
    {
     "name": "stdout",
     "output_type": "stream",
     "text": [
      "[LightGBM] [Info] Auto-choosing row-wise multi-threading, the overhead of testing was 0.000531 seconds.\n",
      "You can set `force_row_wise=true` to remove the overhead.\n",
      "And if memory is not enough, you can set `force_col_wise=true`.\n",
      "[LightGBM] [Info] Total Bins 1473\n",
      "[LightGBM] [Info] Number of data points in the train set: 10178, number of used features: 21\n",
      "[LightGBM] [Info] Start training from score 9.469813\n"
     ]
    },
    {
     "name": "stderr",
     "output_type": "stream",
     "text": [
      "2025-05-11 15:07:42,337 - INFO - LGBMRegressor train MAE: 7852.00\n",
      "2025-05-11 15:07:42,337 - INFO - LGBMRegressor valid MAE: 8712.31\n"
     ]
    }
   ],
   "source": [
    "param_grid_lgbm = {\n",
    "    'lgbmregressor__n_estimators': [100, 200, 300, 500],\n",
    "    'lgbmregressor__learning_rate': [0.01, 0.05, 0.1, 0.2],\n",
    "    'lgbmregressor__max_depth': [-1, 4, 6, 8, 10],\n",
    "    'lgbmregressor__num_leaves': [15, 31, 63, 127],\n",
    "    'lgbmregressor__min_child_samples': [5, 10, 20, 50],\n",
    "    'lgbmregressor__subsample': [0.6, 0.8, 1.0],\n",
    "    'lgbmregressor__colsample_bytree': [0.6, 0.8, 1.0],\n",
    "    'lgbmregressor__reg_alpha': [0.0, 0.1, 0.5, 1.0],\n",
    "    'lgbmregressor__reg_lambda': [0.0, 0.1, 0.5, 1.0]\n",
    "}\n",
    "\n",
    "best_lgbm = pipeline_iterator(\n",
    "            model_type=LGBMRegressor,\n",
    "            imputation='simple',\n",
    "            feature_set='engineered',\n",
    "            search_type='random',\n",
    "            param_grid=param_grid_lgbm,\n",
    "            n_iter=100,\n",
    "            cv_folds=5\n",
    "        )"
   ]
  },
  {
   "cell_type": "code",
   "execution_count": 18,
   "id": "6b5f5061-f397-4d10-b259-07f55078fc1e",
   "metadata": {},
   "outputs": [],
   "source": [
    "## Recreate engineered feature in test data\n",
    "test['lat_lon_product'] = test['lat'] * test['lon']\n",
    "test['rating_weighted'] = test['rating'] * np.log1p(test['num_reviews'])\n",
    "\n",
    "# Make predictions on the test set using the base model\n",
    "pred_test = np.expm1(best_lgbm['pipeline'].predict(test))\n",
    "test[target_col] = pred_test\n",
    "\n"
   ]
  },
  {
   "cell_type": "code",
   "execution_count": 19,
   "id": "31896465-a2c4-4111-a50f-6a7995928642",
   "metadata": {},
   "outputs": [
    {
     "data": {
      "text/html": [
       "<div>\n",
       "<style scoped>\n",
       "    .dataframe tbody tr th:only-of-type {\n",
       "        vertical-align: middle;\n",
       "    }\n",
       "\n",
       "    .dataframe tbody tr th {\n",
       "        vertical-align: top;\n",
       "    }\n",
       "\n",
       "    .dataframe thead th {\n",
       "        text-align: right;\n",
       "    }\n",
       "</style>\n",
       "<table border=\"1\" class=\"dataframe\">\n",
       "  <thead>\n",
       "    <tr style=\"text-align: right;\">\n",
       "      <th></th>\n",
       "      <th>host</th>\n",
       "      <th>name</th>\n",
       "      <th>lat</th>\n",
       "      <th>lon</th>\n",
       "      <th>rooms</th>\n",
       "      <th>bathrooms</th>\n",
       "      <th>room_type</th>\n",
       "      <th>beds</th>\n",
       "      <th>min_nights</th>\n",
       "      <th>num_reviews</th>\n",
       "      <th>rating</th>\n",
       "      <th>guests</th>\n",
       "      <th>listing_type</th>\n",
       "      <th>facilities</th>\n",
       "      <th>cancellation</th>\n",
       "      <th>lat_lon_product</th>\n",
       "      <th>rating_weighted</th>\n",
       "      <th>revenue</th>\n",
       "    </tr>\n",
       "  </thead>\n",
       "  <tbody>\n",
       "    <tr>\n",
       "      <th>0</th>\n",
       "      <td>Fred</td>\n",
       "      <td>Unique 1 bedroom in Malaga's city centre</td>\n",
       "      <td>36.7200</td>\n",
       "      <td>-4.4177</td>\n",
       "      <td>1.0</td>\n",
       "      <td>1.0</td>\n",
       "      <td>entire_home</td>\n",
       "      <td>1.0</td>\n",
       "      <td>4</td>\n",
       "      <td>159</td>\n",
       "      <td>4.91</td>\n",
       "      <td>3.0</td>\n",
       "      <td>Entire rental unit</td>\n",
       "      <td>High chair TV Wifi Air conditioning Crib Kitch...</td>\n",
       "      <td>Firm</td>\n",
       "      <td>-162.217944</td>\n",
       "      <td>24.919103</td>\n",
       "      <td>24224.514248</td>\n",
       "    </tr>\n",
       "    <tr>\n",
       "      <th>1</th>\n",
       "      <td>Patrizia</td>\n",
       "      <td>P&amp;F Apartment! and you're in Piazza Navona</td>\n",
       "      <td>41.8981</td>\n",
       "      <td>12.4714</td>\n",
       "      <td>2.0</td>\n",
       "      <td>1.0</td>\n",
       "      <td>entire_home</td>\n",
       "      <td>4.0</td>\n",
       "      <td>3</td>\n",
       "      <td>299</td>\n",
       "      <td>4.61</td>\n",
       "      <td>4.0</td>\n",
       "      <td>Entire rental unit</td>\n",
       "      <td>High chair TV Baby safety gates Wifi Air condi...</td>\n",
       "      <td>Flexible</td>\n",
       "      <td>522.527964</td>\n",
       "      <td>26.294437</td>\n",
       "      <td>42027.077232</td>\n",
       "    </tr>\n",
       "    <tr>\n",
       "      <th>2</th>\n",
       "      <td>Rafa</td>\n",
       "      <td>MLH (My Little Home) Free WiFi - A/C</td>\n",
       "      <td>39.4590</td>\n",
       "      <td>-0.3752</td>\n",
       "      <td>NaN</td>\n",
       "      <td>1.0</td>\n",
       "      <td>entire_home</td>\n",
       "      <td>1.0</td>\n",
       "      <td>7</td>\n",
       "      <td>223</td>\n",
       "      <td>4.75</td>\n",
       "      <td>2.0</td>\n",
       "      <td>Entire loft</td>\n",
       "      <td>TV Wifi Air conditioning Kitchen Room-darkenin...</td>\n",
       "      <td>Strict</td>\n",
       "      <td>-14.805017</td>\n",
       "      <td>25.705319</td>\n",
       "      <td>14328.648269</td>\n",
       "    </tr>\n",
       "    <tr>\n",
       "      <th>3</th>\n",
       "      <td>Cristina</td>\n",
       "      <td>Casais da Bandeirinha</td>\n",
       "      <td>41.1440</td>\n",
       "      <td>-8.6211</td>\n",
       "      <td>3.0</td>\n",
       "      <td>1.0</td>\n",
       "      <td>entire_home</td>\n",
       "      <td>5.0</td>\n",
       "      <td>3</td>\n",
       "      <td>290</td>\n",
       "      <td>4.80</td>\n",
       "      <td>6.0</td>\n",
       "      <td>Entire rental unit</td>\n",
       "      <td>High chair TV Cable TV Children’s books and to...</td>\n",
       "      <td>Strict</td>\n",
       "      <td>-354.706538</td>\n",
       "      <td>27.231952</td>\n",
       "      <td>32970.819978</td>\n",
       "    </tr>\n",
       "    <tr>\n",
       "      <th>4</th>\n",
       "      <td>Corinne</td>\n",
       "      <td>La Ville au Calme facing the Park</td>\n",
       "      <td>45.9073</td>\n",
       "      <td>6.1236</td>\n",
       "      <td>1.0</td>\n",
       "      <td>1.0</td>\n",
       "      <td>entire_home</td>\n",
       "      <td>1.0</td>\n",
       "      <td>2</td>\n",
       "      <td>60</td>\n",
       "      <td>4.60</td>\n",
       "      <td>2.0</td>\n",
       "      <td>Entire rental unit</td>\n",
       "      <td>TV Wifi Kitchen Room-darkening shades Hot wate...</td>\n",
       "      <td>Strict</td>\n",
       "      <td>281.117942</td>\n",
       "      <td>18.910020</td>\n",
       "      <td>8359.068283</td>\n",
       "    </tr>\n",
       "  </tbody>\n",
       "</table>\n",
       "</div>"
      ],
      "text/plain": [
       "       host                                        name      lat      lon  \\\n",
       "0      Fred    Unique 1 bedroom in Malaga's city centre  36.7200  -4.4177   \n",
       "1  Patrizia  P&F Apartment! and you're in Piazza Navona  41.8981  12.4714   \n",
       "2      Rafa        MLH (My Little Home) Free WiFi - A/C  39.4590  -0.3752   \n",
       "3  Cristina                       Casais da Bandeirinha  41.1440  -8.6211   \n",
       "4   Corinne           La Ville au Calme facing the Park  45.9073   6.1236   \n",
       "\n",
       "   rooms  bathrooms    room_type  beds  min_nights  num_reviews  rating  \\\n",
       "0    1.0        1.0  entire_home   1.0           4          159    4.91   \n",
       "1    2.0        1.0  entire_home   4.0           3          299    4.61   \n",
       "2    NaN        1.0  entire_home   1.0           7          223    4.75   \n",
       "3    3.0        1.0  entire_home   5.0           3          290    4.80   \n",
       "4    1.0        1.0  entire_home   1.0           2           60    4.60   \n",
       "\n",
       "   guests        listing_type  \\\n",
       "0     3.0  Entire rental unit   \n",
       "1     4.0  Entire rental unit   \n",
       "2     2.0         Entire loft   \n",
       "3     6.0  Entire rental unit   \n",
       "4     2.0  Entire rental unit   \n",
       "\n",
       "                                          facilities cancellation  \\\n",
       "0  High chair TV Wifi Air conditioning Crib Kitch...         Firm   \n",
       "1  High chair TV Baby safety gates Wifi Air condi...     Flexible   \n",
       "2  TV Wifi Air conditioning Kitchen Room-darkenin...       Strict   \n",
       "3  High chair TV Cable TV Children’s books and to...       Strict   \n",
       "4  TV Wifi Kitchen Room-darkening shades Hot wate...       Strict   \n",
       "\n",
       "   lat_lon_product  rating_weighted       revenue  \n",
       "0      -162.217944        24.919103  24224.514248  \n",
       "1       522.527964        26.294437  42027.077232  \n",
       "2       -14.805017        25.705319  14328.648269  \n",
       "3      -354.706538        27.231952  32970.819978  \n",
       "4       281.117942        18.910020   8359.068283  "
      ]
     },
     "execution_count": 19,
     "metadata": {},
     "output_type": "execute_result"
    }
   ],
   "source": [
    "test.head()"
   ]
  },
  {
   "cell_type": "code",
   "execution_count": 20,
   "id": "2570681c-b209-4a52-84cb-6c14e358e330",
   "metadata": {},
   "outputs": [
    {
     "data": {
      "text/plain": [
       "count     15268.000000\n",
       "mean      21683.519649\n",
       "std       25398.981550\n",
       "min         136.000000\n",
       "25%        6897.750000\n",
       "50%       14559.500000\n",
       "75%       26958.250000\n",
       "max      473555.000000\n",
       "Name: revenue, dtype: float64"
      ]
     },
     "execution_count": 20,
     "metadata": {},
     "output_type": "execute_result"
    }
   ],
   "source": [
    "data['revenue'].describe()"
   ]
  },
  {
   "cell_type": "code",
   "execution_count": 21,
   "id": "1cef40f5-8a96-4286-a1b9-bde0e7fe991b",
   "metadata": {},
   "outputs": [
    {
     "data": {
      "text/plain": [
       "count      7635.000000\n",
       "mean      18391.836382\n",
       "std       17625.113230\n",
       "min         407.966802\n",
       "25%        7519.821456\n",
       "50%       13480.124625\n",
       "75%       23114.868401\n",
       "max      231027.915244\n",
       "Name: revenue, dtype: float64"
      ]
     },
     "execution_count": 21,
     "metadata": {},
     "output_type": "execute_result"
    }
   ],
   "source": [
    "test['revenue'].describe()"
   ]
  },
  {
   "cell_type": "code",
   "execution_count": 22,
   "id": "c1335ed2-87f2-4eb9-9535-6f9e2748fa4b",
   "metadata": {},
   "outputs": [
    {
     "name": "stdout",
     "output_type": "stream",
     "text": [
      "14559.5\n",
      "13480.12462525619\n"
     ]
    }
   ],
   "source": [
    "print(data['revenue'].median())\n",
    "print(test['revenue'].median())"
   ]
  },
  {
   "cell_type": "code",
   "execution_count": 23,
   "id": "af6ce0a1-3def-4cb7-8316-5ca64d10c7b1",
   "metadata": {},
   "outputs": [
    {
     "name": "stdout",
     "output_type": "stream",
     "text": [
      "(15268, 13)\n",
      "(7635, 18)\n"
     ]
    }
   ],
   "source": [
    "print(data.shape)\n",
    "print(test.shape)"
   ]
  },
  {
   "cell_type": "code",
   "execution_count": 24,
   "id": "7f54768e-530b-4a58-afd3-90822499ac21",
   "metadata": {},
   "outputs": [
    {
     "name": "stdout",
     "output_type": "stream",
     "text": [
      "Index(['lat', 'lon', 'rooms', 'bathrooms', 'room_type', 'beds', 'min_nights',\n",
      "       'num_reviews', 'rating', 'guests', 'listing_type', 'cancellation',\n",
      "       'revenue'],\n",
      "      dtype='object')\n",
      "Index(['host', 'name', 'lat', 'lon', 'rooms', 'bathrooms', 'room_type', 'beds',\n",
      "       'min_nights', 'num_reviews', 'rating', 'guests', 'listing_type',\n",
      "       'facilities', 'cancellation', 'lat_lon_product', 'rating_weighted',\n",
      "       'revenue'],\n",
      "      dtype='object')\n"
     ]
    }
   ],
   "source": [
    "print(data.columns)\n",
    "print(test.columns)"
   ]
  },
  {
   "cell_type": "code",
   "execution_count": 25,
   "id": "e7ffc5b0-b2b3-4c30-835a-ae2993321c2f",
   "metadata": {},
   "outputs": [],
   "source": [
    "# Convert the predictions to a list of dictionaries\n",
    "predicted = test[[target_col]].to_dict(orient='records')\n",
    "\n",
    "\n",
    "## Save the predictions to a ZIP file\n",
    "with zipfile.ZipFile(\"cbjones_3_11052025.zip\", \"w\", zipfile.ZIP_DEFLATED) as zipf:\n",
    "    # Write the predictions to a JSON file inside the ZIP\n",
    "    zipf.writestr(\"predicted.json\", json.dumps(predicted, indent=2))"
   ]
  },
  {
   "cell_type": "code",
   "execution_count": 26,
   "id": "6a9eef67-04e1-4808-a4c8-b11882126d35",
   "metadata": {},
   "outputs": [
    {
     "name": "stdout",
     "output_type": "stream",
     "text": [
      "Files extracted to: C:\\Users\\chels\\Github\\ML-assignment\n"
     ]
    }
   ],
   "source": [
    "# Get the current working directory\n",
    "current_directory = os.getcwd()\n",
    "\n",
    "# Path to the ZIP file (assuming it's in the current working directory)\n",
    "zip_file_path = os.path.join(current_directory, 'cbjones_3_11052025.zip')\n",
    "\n",
    "# Open the ZIP file\n",
    "with zipfile.ZipFile(zip_file_path, 'r') as zip_ref:\n",
    "    # Extract all files to the current working directory\n",
    "    zip_ref.extractall(current_directory)\n",
    "\n",
    "print(\"Files extracted to:\", current_directory)"
   ]
  },
  {
   "cell_type": "code",
   "execution_count": 27,
   "id": "1b6fac72-e8a1-4190-b954-aaf9fcfc1bf5",
   "metadata": {},
   "outputs": [
    {
     "data": {
      "text/plain": [
       "(7635, 1)"
      ]
     },
     "execution_count": 27,
     "metadata": {},
     "output_type": "execute_result"
    }
   ],
   "source": [
    "predicted=pd.read_json('predicted.json', orient='records')\n",
    "predicted.shape"
   ]
  },
  {
   "cell_type": "code",
   "execution_count": 66,
   "id": "ed81c2ad-0aed-4cf5-845b-02b349e9ae2e",
   "metadata": {},
   "outputs": [
    {
     "data": {
      "text/plain": [
       "count      5090.000000\n",
       "mean      21423.307269\n",
       "std       25073.654876\n",
       "min         141.000000\n",
       "25%        6872.000000\n",
       "50%       14402.500000\n",
       "75%       26561.500000\n",
       "max      299284.000000\n",
       "Name: revenue, dtype: float64"
      ]
     },
     "execution_count": 66,
     "metadata": {},
     "output_type": "execute_result"
    }
   ],
   "source": [
    "raw_valid['revenue'].describe()"
   ]
  },
  {
   "cell_type": "code",
   "execution_count": 64,
   "id": "9ca56f1a-cbd9-4398-93a2-3672ea7884ef",
   "metadata": {},
   "outputs": [
    {
     "data": {
      "text/html": [
       "<div>\n",
       "<style scoped>\n",
       "    .dataframe tbody tr th:only-of-type {\n",
       "        vertical-align: middle;\n",
       "    }\n",
       "\n",
       "    .dataframe tbody tr th {\n",
       "        vertical-align: top;\n",
       "    }\n",
       "\n",
       "    .dataframe thead th {\n",
       "        text-align: right;\n",
       "    }\n",
       "</style>\n",
       "<table border=\"1\" class=\"dataframe\">\n",
       "  <thead>\n",
       "    <tr style=\"text-align: right;\">\n",
       "      <th></th>\n",
       "      <th>revenue</th>\n",
       "    </tr>\n",
       "  </thead>\n",
       "  <tbody>\n",
       "    <tr>\n",
       "      <th>count</th>\n",
       "      <td>7635.000000</td>\n",
       "    </tr>\n",
       "    <tr>\n",
       "      <th>mean</th>\n",
       "      <td>18391.836382</td>\n",
       "    </tr>\n",
       "    <tr>\n",
       "      <th>std</th>\n",
       "      <td>17625.113230</td>\n",
       "    </tr>\n",
       "    <tr>\n",
       "      <th>min</th>\n",
       "      <td>407.966802</td>\n",
       "    </tr>\n",
       "    <tr>\n",
       "      <th>25%</th>\n",
       "      <td>7519.821456</td>\n",
       "    </tr>\n",
       "    <tr>\n",
       "      <th>50%</th>\n",
       "      <td>13480.124625</td>\n",
       "    </tr>\n",
       "    <tr>\n",
       "      <th>75%</th>\n",
       "      <td>23114.868401</td>\n",
       "    </tr>\n",
       "    <tr>\n",
       "      <th>max</th>\n",
       "      <td>231027.915244</td>\n",
       "    </tr>\n",
       "  </tbody>\n",
       "</table>\n",
       "</div>"
      ],
      "text/plain": [
       "             revenue\n",
       "count    7635.000000\n",
       "mean    18391.836382\n",
       "std     17625.113230\n",
       "min       407.966802\n",
       "25%      7519.821456\n",
       "50%     13480.124625\n",
       "75%     23114.868401\n",
       "max    231027.915244"
      ]
     },
     "execution_count": 64,
     "metadata": {},
     "output_type": "execute_result"
    }
   ],
   "source": [
    "predicted.describe()"
   ]
  }
 ],
 "metadata": {
  "kernelspec": {
   "display_name": "Python 3 (ipykernel)",
   "language": "python",
   "name": "python3"
  },
  "language_info": {
   "codemirror_mode": {
    "name": "ipython",
    "version": 3
   },
   "file_extension": ".py",
   "mimetype": "text/x-python",
   "name": "python",
   "nbconvert_exporter": "python",
   "pygments_lexer": "ipython3",
   "version": "3.12.4"
  }
 },
 "nbformat": 4,
 "nbformat_minor": 5
}
